{
 "cells": [
  {
   "cell_type": "markdown",
   "metadata": {},
   "source": [
    "<h1>Proyecto Tecnologías de Búsqueda en la Web</h1>\n",
    "<h3>Integrantes</h3>\n",
    "<ul><li>Sebastián Aranda</li><li>Felipe Santander</li></ul>"
   ]
  },
  {
   "cell_type": "markdown",
   "metadata": {},
   "source": [
    "<h2>Librerías</h2>"
   ]
  },
  {
   "cell_type": "code",
   "execution_count": 36,
   "metadata": {
    "collapsed": true
   },
   "outputs": [],
   "source": [
    "import gensim\n",
    "from gensim import corpora\n",
    "from gensim.corpora import Dictionary, bleicorpus\n",
    "from gensim.models import ldamodel\n",
    "from gensim.models import Phrases\n",
    "\n",
    "from collections import defaultdict\n",
    "\n",
    "import nltk\n",
    "from nltk.corpus import stopwords\n",
    "from nltk.stem.wordnet import WordNetLemmatizer\n",
    "\n",
    "from random import randint\n",
    "\n",
    "import pyLDAvis\n",
    "import re\n",
    "import os\n",
    "import json\n",
    "\n",
    "from __future__ import division"
   ]
  },
  {
   "cell_type": "markdown",
   "metadata": {},
   "source": [
    "<h2>Creación del Corpus</h2>"
   ]
  },
  {
   "cell_type": "code",
   "execution_count": 37,
   "metadata": {
    "collapsed": true
   },
   "outputs": [],
   "source": [
    "corpus_path = \"cyberbullying_corpus/\"\n",
    "roastme_dataset_path = \"Corpus_builder_and_pre/Dataset/\"\n",
    "balance_dataset_path = \"Corpus_builder_and_pre/Neutros&Positivos/\""
   ]
  },
  {
   "cell_type": "code",
   "execution_count": 38,
   "metadata": {},
   "outputs": [
    {
     "name": "stdout",
     "output_type": "stream",
     "text": [
      "Badwords List Size: 376\n",
      "Creating the corpus...\n",
      "Adding Roastme Dataset...\n",
      "Adding Neutral&Positive Dataset...\n",
      "Roastme Dataset Size: 6501 docs\n",
      "Balance Dataset Size: 4500 docs\n",
      "Trainning Corpus Size: 8800\n",
      "Test Corpus Size: 2201\n",
      "Saving Corpus and Dictionary...\n",
      "Number of unique tokens: 4599\n",
      "Number of documents: 8800\n"
     ]
    }
   ],
   "source": [
    "#Create bad words list\n",
    "bad_words = []\n",
    "with open('badwords','r') as bad_words_file:\n",
    "    for word in bad_words_file:\n",
    "        word = word.replace('\\n','').decode('unicode_escape').encode('ascii','ignore')\n",
    "        if word != '':\n",
    "            bad_words.append(word)\n",
    "print(\"Badwords List Size: \"+str(len(bad_words)))\n",
    "        \n",
    "#Remove keywords in cyberbullying from stopwords list\n",
    "keywords = [\"you\", \"your\", \"he\", \"she\", \"it\"]\n",
    "stopword_list = [stopword for stopword in stopwords.words('english') if stopword not in keywords]\n",
    "puncts = \".,:;?!()[]{}~+-\\\"\\'#$%&\\/\"\n",
    "digits = \"0123456789\"\n",
    "\n",
    "#Create the corpus\n",
    "print(\"Creating the corpus...\")\n",
    "mcorpus = dict()\n",
    "mcorpus['roastme'] = list()\n",
    "mcorpus['balance'] = list()\n",
    "\n",
    "print(\"Adding Roastme Dataset...\")\n",
    "count = 0\n",
    "for name in os.listdir(roastme_dataset_path):\n",
    "    if (count >= 6500):\n",
    "        break\n",
    "    if name.endswith('.json'):\n",
    "        with open(roastme_dataset_path+'/'+name) as f:\n",
    "            op_json = json.loads(f.read())\n",
    "            try:\n",
    "                for child in op_json[1]['data']['children']:    \n",
    "                    #Extrae el comentario\n",
    "                    comment_text = child['data']['body'].encode('ascii', 'ignore').replace('\\n', ' ')\n",
    "                    #Elimina los links\n",
    "                    comment_text = re.sub(r'\\w+:\\/{2}[\\d\\w-]+(\\.[\\d\\w-]+)*(?:(?:\\/[^\\s/]*))*', '', comment_text)\n",
    "\n",
    "                    for sym in puncts:\n",
    "                        comment_text = comment_text.replace(sym,\" \")\n",
    "                    for num in digits:\n",
    "                        comment_text = comment_text.replace(num,\" \")\n",
    "\n",
    "                    tokens_comment = [word for word in comment_text.lower().split() if word not in stopword_list]\n",
    "                    mcorpus['roastme'].append(tokens_comment)\n",
    "                    \n",
    "                    count += 1\n",
    "                    if (count >= 6500):\n",
    "                        break\n",
    "                        \n",
    "                    try:\n",
    "                        for child in child['data']['replies']['data']['children']:\n",
    "                            comment_text = child['data']['body'].encode('ascii', 'ignore').replace('\\n', ' ')\n",
    "                            comment_text = re.sub(r'\\w+:\\/{2}[\\d\\w-]+(\\.[\\d\\w-]+)*(?:(?:\\/[^\\s/]*))*', '', comment_text)\n",
    "                    \n",
    "                            for sym in puncts:\n",
    "                                comment_text = comment_text.replace(sym,\" \")\n",
    "                            for num in digits:\n",
    "                                comment_text = comment_text.replace(num,\" \")\n",
    "                    \n",
    "                            tokens_comment = [word for word in comment_text.lower().split() if word not in stopword_list]\n",
    "                            mcorpus['roastme'].append(tokens_comment)\n",
    "                            \n",
    "                            count += 1\n",
    "                            if (count >= 6500):\n",
    "                                break\n",
    "                            \n",
    "                    except Exception:\n",
    "                        pass\n",
    "            except Exception:\n",
    "                pass\n",
    "\n",
    "print(\"Adding Neutral&Positive Dataset...\")\n",
    "count = 0\n",
    "for name in os.listdir(balance_dataset_path):\n",
    "    if (count >= 4500):\n",
    "        break\n",
    "    if name.endswith('.json'):\n",
    "        with open(balance_dataset_path+'/'+name) as f:\n",
    "            op_json = json.loads(f.read())\n",
    "            try:\n",
    "                for child in op_json[1]['data']['children']:    \n",
    "                    #Extrae el comentario\n",
    "                    comment_text = child['data']['body'].encode('ascii', 'ignore').replace('\\n', ' ')\n",
    "                    #Elimina los links\n",
    "                    comment_text = re.sub(r'\\w+:\\/{2}[\\d\\w-]+(\\.[\\d\\w-]+)*(?:(?:\\/[^\\s/]*))*', '', comment_text)\n",
    "\n",
    "                    for sym in puncts:\n",
    "                        comment_text = comment_text.replace(sym,\" \")\n",
    "                    for num in digits:\n",
    "                        comment_text = comment_text.replace(num,\" \")\n",
    "\n",
    "                    tokens_comment = [word for word in comment_text.lower().split() if word not in stopwords.words('english')]\n",
    "                    mcorpus['balance'].append(tokens_comment)\n",
    "                    \n",
    "                    count += 1\n",
    "                    if (count >= 4500):\n",
    "                        break\n",
    "                \n",
    "                    try:\n",
    "                        for child in child['data']['replies']['data']['children']:\n",
    "                            comment_text = child['data']['body'].encode('ascii', 'ignore').replace('\\n', ' ')\n",
    "                            comment_text = re.sub(r'\\w+:\\/{2}[\\d\\w-]+(\\.[\\d\\w-]+)*(?:(?:\\/[^\\s/]*))*', '', comment_text)\n",
    "                    \n",
    "                            for sym in puncts:\n",
    "                                comment_text = comment_text.replace(sym,\" \")\n",
    "                            for num in digits:\n",
    "                                comment_text = comment_text.replace(num,\" \")\n",
    "                    \n",
    "                            tokens_comment = [word for word in comment_text.lower().split() if word not in stopwords.words('english')]\n",
    "                            mcorpus['balance'].append(tokens_comment)\n",
    "                            \n",
    "                            count += 1\n",
    "                            if (count >= 4500):\n",
    "                                break\n",
    "                            \n",
    "                    except Exception:\n",
    "                        pass\n",
    "            except Exception:\n",
    "                pass\n",
    "\n",
    "#Setting Trainning Corpus Cross Fold Validation: 80-20\n",
    "print(\"Roastme Dataset Size: \"+str(len(mcorpus['roastme']))+\" docs\")\n",
    "print(\"Balance Dataset Size: \"+str(len(mcorpus['balance']))+\" docs\")\n",
    "\n",
    "roastme_trainning_size = int(len(mcorpus['roastme'])*0.8)\n",
    "balance_trainning_size = int(len(mcorpus['balance'])*0.8)\n",
    "\n",
    "train_corpus = mcorpus['roastme'][:roastme_trainning_size] + mcorpus['balance'][:balance_trainning_size]\n",
    "test_corpus = mcorpus['roastme'][roastme_trainning_size:] + mcorpus['balance'][balance_trainning_size:]\n",
    "test_corpus_only_bad = mcorpus['roastme'][roastme_trainning_size:]\n",
    "test_corpus_only_balance = mcorpus['balance'][balance_trainning_size:]\n",
    "\n",
    "print(\"Trainning Corpus Size: \"+str(len(train_corpus)))\n",
    "print(\"Test Corpus Size: \"+str(len(test_corpus)))\n",
    "\n",
    "#Remove words that appear only once\n",
    "frequency = defaultdict(int)\n",
    "for doc in train_corpus:\n",
    "    for token in doc:\n",
    "        frequency[token] += 1\n",
    "docs = [[token for token in doc if frequency[token] > 1] for doc in train_corpus]\n",
    "\n",
    "# Lemmatize all words in documents.\n",
    "lemmatizer = WordNetLemmatizer()\n",
    "docs = [[lemmatizer.lemmatize(token) for token in doc] for doc in docs]\n",
    "\n",
    "# Add bigrams and trigrams to docs (only ones that appear 20 times or more).\n",
    "bigram = Phrases(docs, min_count=20)\n",
    "for idx in range(len(docs)):\n",
    "    for token in bigram[docs[idx]]:\n",
    "        if '_' in token:\n",
    "            docs[idx].append(token)\n",
    "\n",
    "#Create and save dictionary\n",
    "dictionary = corpora.Dictionary(docs)\n",
    "#dictionary.filter_extremes(no_below=20, no_above=0.8) # Filter out words that occur less than 20 documents, or more than 50% of the documents.\n",
    "\n",
    "#Convert documents to vectors\n",
    "corpus = [dictionary.doc2bow(doc) for doc in docs]\n",
    "\n",
    "#Increasing weight of bad words:\n",
    "bad_words_ids = [word_id for word_id, word in dictionary.iteritems() if word in bad_words]\n",
    "ngrams_ids = [word_id for word_id, word in dictionary.iteritems() if \"_\" in word]\n",
    "\n",
    "for doc_idx in range(len(corpus)):\n",
    "    word_id_list = []\n",
    "    freq_list = []\n",
    "\n",
    "    for word_id, freq in corpus[doc_idx]:\n",
    "        word_id_list.append(word_id)\n",
    "        if (word_id in bad_words_ids or word_id in ngrams_ids):\n",
    "            freq_list.append(freq*5)\n",
    "        else:\n",
    "            freq_list.append(freq)\n",
    "    \n",
    "    new_doc = zip(word_id_list,freq_list)\n",
    "    corpus[doc_idx] = new_doc\n",
    "\n",
    "print(\"Saving Corpus and Dictionary...\")\n",
    "dictionary.save('tmp/cyberbullying_dictionary.dict') #Save the dictionary\n",
    "corpora.BleiCorpus.serialize('tmp/cyberbullying_corpus.lda-c', corpus) #Save the corpus\n",
    "\n",
    "print('Number of unique tokens: %d' % len(dictionary))\n",
    "print('Number of documents: %d' % len(corpus))\n"
   ]
  },
  {
   "cell_type": "code",
   "execution_count": null,
   "metadata": {},
   "outputs": [],
   "source": [
    "#Load the dictionary and corpus\n",
    "if (os.path.exists('tmp/cyberbullying_dictionary.dict') and os.path.exists('tmp/cyberbullying_corpus.lda-c')):\n",
    "    print('Creating dictionary...')\n",
    "    %time dictionary = corpora.Dictionary.load('tmp/cyberbullying_dictionary.dict')\n",
    "    print('Creating corpus...')\n",
    "    %time corpus = corpora.BleiCorpus('tmp/cyberbullying_corpus.lda-c')\n",
    "else:\n",
    "    print(\"Create the dictionary and corpus first\")"
   ]
  },
  {
   "cell_type": "code",
   "execution_count": 39,
   "metadata": {},
   "outputs": [
    {
     "name": "stdout",
     "output_type": "stream",
     "text": [
      "CPU times: user 23.2 s, sys: 52 ms, total: 23.3 s\n",
      "Wall time: 23.3 s\n"
     ]
    },
    {
     "data": {
      "text/plain": [
       "[(0,\n",
       "  u'0.013*\"love\" + 0.009*\"good\" + 0.009*\"one\" + 0.009*\"make\" + 0.008*\"people\" + 0.007*\"really\" + 0.007*\"meme\" + 0.007*\"wholesome_meme\" + 0.007*\"thank\" + 0.007*\"great\" + 0.007*\"day\" + 0.007*\"know\" + 0.007*\"nice\" + 0.007*\"sub\" + 0.007*\"fuck\" + 0.007*\"get\" + 0.006*\"friend\" + 0.006*\"wholesome\" + 0.006*\"you\" + 0.006*\"thanks\" + 0.006*\"think\" + 0.006*\"go\" + 0.005*\"thing\" + 0.005*\"want\" + 0.005*\"time\" + 0.005*\"feel\" + 0.005*\"fucking\" + 0.005*\"guy\" + 0.005*\"_\" + 0.005*\"your\" + 0.005*\"happy\" + 0.005*\"made\" + 0.004*\"better\" + 0.004*\"post\" + 0.004*\"u\" + 0.004*\"even\" + 0.004*\"r\" + 0.004*\"see\" + 0.004*\"would\" + 0.004*\"life\" + 0.004*\"way\" + 0.004*\"much\" + 0.004*\"man\" + 0.004*\"hope\" + 0.004*\"also\" + 0.003*\"right\" + 0.003*\"it\" + 0.003*\"place\" + 0.003*\"like\" + 0.003*\"need\" + 0.003*\"always\" + 0.003*\"everyone\" + 0.003*\"comic\" + 0.003*\"say\" + 0.003*\"comment\" + 0.003*\"still\" + 0.003*\"could\" + 0.003*\"best\" + 0.003*\"actually\" + 0.003*\"going\" + 0.003*\"take\" + 0.003*\"sexy\" + 0.003*\"op\" + 0.003*\"positive\" + 0.003*\"work\" + 0.003*\"something\" + 0.003*\"lot\" + 0.003*\"thought\" + 0.003*\"though\" + 0.003*\"well\" + 0.003*\"help\" + 0.003*\"never\" + 0.003*\"face\" + 0.002*\"little\" + 0.002*\"someone\" + 0.002*\"deleted\" + 0.002*\"keep\" + 0.002*\"picture\" + 0.002*\"new\" + 0.002*\"sure\" + 0.002*\"mean\" + 0.002*\"smile\" + 0.002*\"he\" + 0.002*\"every\" + 0.002*\"awesome\" + 0.002*\"dick\" + 0.002*\"first\" + 0.002*\"wish\" + 0.002*\"back\" + 0.002*\"wonderful\" + 0.002*\"ever\" + 0.002*\"beautiful\" + 0.002*\"give\" + 0.002*\"find\" + 0.002*\"world\" + 0.002*\"got\" + 0.002*\"glad\" + 0.002*\"community_college\" + 0.002*\"oh\" + 0.002*\"amshower\"'),\n",
       " (1,\n",
       "  u'0.086*\"look_like\" + 0.042*\"like\" + 0.041*\"you\" + 0.026*\"look\" + 0.017*\"your\" + 0.016*\"shit\" + 0.008*\"high_school\" + 0.006*\"one\" + 0.006*\"shitty\" + 0.005*\"get\" + 0.005*\"year_old\" + 0.005*\"guy\" + 0.005*\"removed\" + 0.005*\"school\" + 0.004*\"would\" + 0.004*\"face\" + 0.004*\"feel\" + 0.004*\"year\" + 0.004*\"dog\" + 0.003*\"kind\" + 0.003*\"it\" + 0.003*\"even\" + 0.003*\"make\" + 0.003*\"got\" + 0.003*\"someone\" + 0.003*\"bad\" + 0.003*\"day\" + 0.003*\"say\" + 0.003*\"time\" + 0.003*\"cock\" + 0.002*\"much\" + 0.002*\"he\" + 0.002*\"sleep\" + 0.002*\"friend\" + 0.002*\"back\" + 0.002*\"need\" + 0.002*\"good\" + 0.002*\"hair\" + 0.002*\"girl\" + 0.002*\"high\" + 0.002*\"community_college\" + 0.002*\"head\" + 0.002*\"love\" + 0.002*\"comic\" + 0.002*\"still\" + 0.002*\"she\" + 0.002*\"subreddit\" + 0.002*\"way\" + 0.002*\"well\" + 0.002*\"porn\" + 0.002*\"sex\" + 0.002*\"want\" + 0.002*\"could\" + 0.002*\"cat\" + 0.002*\"already\" + 0.002*\"old\" + 0.002*\"see\" + 0.002*\"bet\" + 0.002*\"young\" + 0.002*\"cum\" + 0.002*\"c\" + 0.002*\"butt\" + 0.002*\"put\" + 0.002*\"never\" + 0.002*\"come\" + 0.002*\"probably\" + 0.002*\"really\" + 0.002*\"go\" + 0.002*\"home\" + 0.002*\"happy\" + 0.002*\"know\" + 0.002*\"circlejerk\" + 0.002*\"give\" + 0.002*\"people\" + 0.002*\"pussy\" + 0.002*\"first\" + 0.002*\"right\" + 0.002*\"u\" + 0.002*\"hard\" + 0.001*\"working\" + 0.001*\"dude\" + 0.001*\"kid\" + 0.001*\"great\" + 0.001*\"post\" + 0.001*\"rape\" + 0.001*\"night\" + 0.001*\"favorite\" + 0.001*\"pubes\" + 0.001*\"ever\" + 0.001*\"best\" + 0.001*\"dad\" + 0.001*\"always\" + 0.001*\"take\" + 0.001*\"child\" + 0.001*\"message\" + 0.001*\"peanut\" + 0.001*\"person\" + 0.001*\"least\" + 0.001*\"christmas\" + 0.001*\"parent\"')]"
      ]
     },
     "execution_count": 39,
     "metadata": {},
     "output_type": "execute_result"
    }
   ],
   "source": [
    "#Initialize a model\n",
    "#print('Creating Tfidf model...')\n",
    "tfidf = gensim.models.TfidfModel(corpus)\n",
    "corpus_tfidf = tfidf[corpus]\n",
    "\n",
    "%time lda_model = ldamodel.LdaModel(corpus, num_topics=2, id2word=dictionary)\n",
    "lda_model.save('tmp/cyberbullying_ldaModel.lda')\n",
    "lda_model.print_topics(2,100)\n",
    "\n",
    "#lda_model_tfidf = ldamodel.LdaModel(corpus_tfidf, num_topics=2, id2word=dictionary)"
   ]
  },
  {
   "cell_type": "code",
   "execution_count": 40,
   "metadata": {},
   "outputs": [
    {
     "name": "stdout",
     "output_type": "stream",
     "text": [
      "Recall:\n",
      "0.71329746349\n"
     ]
    }
   ],
   "source": [
    "#Evaluate with roastme dataset (agressive)\n",
    "corpus = [dictionary.doc2bow(doc) for doc in test_corpus_only_bad]\n",
    "total_docs = 0\n",
    "true_positive = 0\n",
    "false_negative = 0\n",
    "percent_list = []\n",
    "for docbow in corpus:\n",
    "    total_docs += 1\n",
    "    \n",
    "    if (len(lda_model[docbow]) == 2):\n",
    "        if (lda_model[docbow][1][1] > 0.5):\n",
    "            true_positive += 1\n",
    "        else:\n",
    "            false_negative += 1\n",
    "    else:\n",
    "        if (lda_model[docbow][0][0] == 1):\n",
    "            true_positive += 1\n",
    "        else:\n",
    "            false_negative += 1\n",
    "\n",
    "recall = true_positive/(true_positive+false_negative)\n",
    "print(\"Recall:\")\n",
    "print(recall)\n",
    "#print('{0:.16f}'.format(recall))\n"
   ]
  },
  {
   "cell_type": "code",
   "execution_count": null,
   "metadata": {
    "collapsed": true
   },
   "outputs": [],
   "source": [
    "#Load LDA Model\n",
    "lda = models.LdaModel.load('tmp/cyberbullying_ldaModel.lda')"
   ]
  }
 ],
 "metadata": {
  "kernelspec": {
   "display_name": "Python 2",
   "language": "python",
   "name": "python2"
  },
  "language_info": {
   "codemirror_mode": {
    "name": "ipython",
    "version": 2
   },
   "file_extension": ".py",
   "mimetype": "text/x-python",
   "name": "python",
   "nbconvert_exporter": "python",
   "pygments_lexer": "ipython2",
   "version": "2.7.13"
  }
 },
 "nbformat": 4,
 "nbformat_minor": 2
}
