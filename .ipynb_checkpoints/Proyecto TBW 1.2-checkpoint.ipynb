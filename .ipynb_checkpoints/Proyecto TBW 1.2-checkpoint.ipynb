{
 "cells": [
  {
   "cell_type": "markdown",
   "metadata": {},
   "source": [
    "<h1>Proyecto Tecnologías de Búsqueda en la Web</h1>\n",
    "<h3>Integrantes</h3>\n",
    "<ul><li>Sebastián Aranda</li><li>Felipe Santander</li></ul>"
   ]
  },
  {
   "cell_type": "markdown",
   "metadata": {},
   "source": [
    "<h2>Librerías</h2>"
   ]
  },
  {
   "cell_type": "code",
   "execution_count": 14,
   "metadata": {
    "collapsed": true
   },
   "outputs": [],
   "source": [
    "import gensim\n",
    "from gensim import corpora\n",
    "from gensim.corpora import Dictionary, bleicorpus\n",
    "from gensim.models import ldamodel\n",
    "from gensim.models import Phrases\n",
    "\n",
    "from collections import defaultdict\n",
    "\n",
    "import nltk\n",
    "from nltk.corpus import stopwords\n",
    "from nltk.stem.wordnet import WordNetLemmatizer\n",
    "\n",
    "from random import randint\n",
    "\n",
    "import pyLDAvis\n",
    "import re\n",
    "import os\n",
    "import json"
   ]
  },
  {
   "cell_type": "markdown",
   "metadata": {},
   "source": [
    "<h2>Creación del Corpus</h2>"
   ]
  },
  {
   "cell_type": "code",
   "execution_count": 15,
   "metadata": {
    "collapsed": true
   },
   "outputs": [],
   "source": [
    "corpus_path = \"cyberbullying_corpus/\"\n",
    "dataset_path = \"Corpus_builder_and_pre/Dataset/\"\n",
    "#corpus_path = \"corpus_lda/corpus_lda.lda_c\"\n",
    "#dictionary_path =\"corpus_lda/corpus_lda.dict\""
   ]
  },
  {
   "cell_type": "code",
   "execution_count": null,
   "metadata": {},
   "outputs": [
    {
     "name": "stdout",
     "output_type": "stream",
     "text": [
      "Badwords List Size: 376\n",
      "Creating the corpus...\n",
      "Exception at file:5 has no children\n",
      "Exception at file:115 has no children\n"
     ]
    }
   ],
   "source": [
    "#Create bad words list\n",
    "bad_words = []\n",
    "with open('badwords','r') as bad_words_file:\n",
    "    for word in bad_words_file:\n",
    "        word = word.replace('\\n','').decode('unicode_escape').encode('ascii','ignore')\n",
    "        if word != '':\n",
    "            bad_words.append(word)\n",
    "print(\"Badwords List Size: \"+str(len(bad_words)))\n",
    "        \n",
    "#Remove keywords in cyberbullying from stopwords list\n",
    "keywords = [\"you\", \"your\", \"he\", \"she\", \"it\"]\n",
    "stopword_list = [stopword for stopword in stopwords.words('english') if stopword not in keywords]\n",
    "puncts = \".,:;?!()[]{}~+-\\\"\\'#$%&\\/\"\n",
    "digits = \"0123456789\"\n",
    "\n",
    "#Create the corpus\n",
    "print(\"Creating the corpus...\")\n",
    "mcorpus = []\n",
    "count = 0\n",
    "for name in os.listdir(dataset_path):\n",
    "    if name.endswith('.json'):\n",
    "        with open(dataset_path+'/'+name) as f:\n",
    "            count += 1\n",
    "            op_json = json.loads(f.read())\n",
    "            try:\n",
    "                for child in op_json[1]['data']['children']:\n",
    "                    tokens = [] \n",
    "                    \n",
    "                    #Extrae el comentario\n",
    "                    comment_text = child['data']['body'].encode('ascii', 'ignore').replace('\\n', ' ')\n",
    "                    #Elimina los links\n",
    "                    comment_text = re.sub(r'\\w+:\\/{2}[\\d\\w-]+(\\.[\\d\\w-]+)*(?:(?:\\/[^\\s/]*))*', '', comment_text)\n",
    "\n",
    "                    for sym in puncts:\n",
    "                        comment_text = comment_text.replace(sym,\" \")\n",
    "                    for num in digits:\n",
    "                        comment_text = comment_text.replace(num,\" \")\n",
    "\n",
    "                    tokens_comment = [word for word in comment_text.lower().split() if word not in stopword_list]\n",
    "                    tokens = tokens + tokens_comment\n",
    "\n",
    "                    try:\n",
    "                        for child in child['data']['replies']['data']['children']:\n",
    "                            comment_text = child['data']['body'].encode('ascii', 'ignore').replace('\\n', ' ')\n",
    "                            comment_text = re.sub(r'\\w+:\\/{2}[\\d\\w-]+(\\.[\\d\\w-]+)*(?:(?:\\/[^\\s/]*))*', '', comment_text)\n",
    "\n",
    "                            for sym in puncts:\n",
    "                                comment_text = comment_text.replace(sym,\" \")\n",
    "                            for num in digits:\n",
    "                                comment_text = comment_text.replace(num,\" \")\n",
    "\n",
    "                            tokens_comment = [word for word in comment_text.lower().split() if word not in stopword_list]\n",
    "                            tokens = tokens + tokens_comment\n",
    "                    except Exception:\n",
    "                        pass\n",
    "\n",
    "                    mcorpus.append(tokens)\n",
    "            except Exception:\n",
    "                print('Exception at file:'+str(count)+' has no children')\n",
    "                pass\n",
    "        \n",
    "#Remove words that appear only once\n",
    "frequency = defaultdict(int)\n",
    "for doc in mcorpus:\n",
    "    for token in doc:\n",
    "        frequency[token] += 1\n",
    "docs = [[token for token in doc if frequency[token] > 1] for doc in mcorpus]\n",
    "\n",
    "# Lemmatize all words in documents.\n",
    "lemmatizer = WordNetLemmatizer()\n",
    "docs = [[lemmatizer.lemmatize(token) for token in doc] for doc in docs]\n",
    "\n",
    "# Add bigrams and trigrams to docs (only ones that appear 20 times or more).\n",
    "bigram = Phrases(docs, min_count=20)\n",
    "for idx in range(len(docs)):\n",
    "    for token in bigram[docs[idx]]:\n",
    "        if '_' in token:\n",
    "            docs[idx].append(token)\n",
    "\n",
    "#Create and save dictionary\n",
    "dictionary = corpora.Dictionary(docs)\n",
    "dictionary.save('tmp/cyberbullying_dictionary.dict') #Save the dictionary\n",
    "\n",
    "#Convert documents to vectors\n",
    "corpus = [dictionary.doc2bow(doc) for doc in docs]\n",
    "\n",
    "#Increasing weight of bad words:\n",
    "bad_words_ids = [word_id for word_id, word in dictionary.iteritems() if word in bad_words]\n",
    "ngrams_ids = [word_id for word_id, word in dictionary.iteritems() if \"_\" in word]\n",
    "\n",
    "for doc_idx in range(len(corpus)):\n",
    "    word_id_list = []\n",
    "    freq_list = []\n",
    "\n",
    "    for word_id, freq in corpus[doc_idx]:\n",
    "        word_id_list.append(word_id)\n",
    "        #if (word_id in bad_words_ids and randint(0,9) > 5):\n",
    "        if (word_id in bad_words_ids):\n",
    "            freq_list.append(freq*3)\n",
    "        elif (word_id in ngrams_ids):\n",
    "            freq_list.append(freq*10)\n",
    "        else:\n",
    "            freq_list.append(freq)\n",
    "    \n",
    "    new_doc = zip(word_id_list,freq_list)\n",
    "    corpus[doc_idx] = new_doc\n",
    "\n",
    "print(\"Saving Corpus...\")\n",
    "corpora.BleiCorpus.serialize('tmp/cyberbullying_corpus.lda-c', corpus) #Save the corpus\n"
   ]
  },
  {
   "cell_type": "code",
   "execution_count": 17,
   "metadata": {
    "collapsed": true
   },
   "outputs": [
    {
     "name": "stdout",
     "output_type": "stream",
     "text": [
      "[[(0, 1), (1, 1), (2, 1), (3, 1), (4, 1), (5, 1), (6, 1), (7, 1), (8, 1), (9, 1), (10, 2), (11, 1)], [(10, 1), (12, 1), (13, 1), (14, 1), (15, 1), (16, 1), (17, 1), (18, 1), (19, 1), (20, 1), (21, 1), (22, 1)], [(10, 1), (23, 1), (24, 1), (25, 1), (26, 1), (27, 1), (28, 1), (29, 1), (30, 1), (31, 1), (32, 1), (33, 1)], [(34, 1), (35, 1), (36, 1), (37, 1), (38, 1)], [(3, 1), (39, 1), (40, 1), (41, 1), (42, 1), (43, 1), (44, 1), (45, 1)], [(3, 1), (7, 1), (10, 6), (20, 1), (33, 1), (46, 1), (47, 1), (48, 1), (49, 2), (50, 1), (51, 2), (52, 1), (53, 1), (54, 2), (55, 1), (56, 1), (57, 1), (58, 1), (59, 1), (60, 1)], [(1, 1), (10, 2), (33, 1), (61, 1), (62, 1), (63, 1), (64, 1), (65, 1), (66, 1), (67, 1), (68, 1), (69, 2), (70, 1), (71, 1), (72, 1), (73, 1), (74, 1), (75, 1), (76, 1), (77, 1), (78, 1), (79, 1), (80, 1)], [(3, 1), (10, 3), (20, 1), (39, 1), (69, 1), (81, 1), (82, 1), (83, 1), (84, 1), (85, 1), (86, 1), (87, 1), (88, 1), (89, 1)], [(50, 1), (90, 1), (91, 1), (92, 1), (93, 1), (94, 1), (95, 1), (96, 1)], [(10, 1), (25, 1), (33, 1), (74, 1), (97, 300)]]\n"
     ]
    }
   ],
   "source": [
    "print(corpus[:10])"
   ]
  },
  {
   "cell_type": "code",
   "execution_count": null,
   "metadata": {
    "collapsed": true
   },
   "outputs": [],
   "source": [
    "#Load the dictionary and corpus\n",
    "if (os.path.exists('tmp/cyberbullying_dictionary.dict') and os.path.exists('tmp/cyberbullying_corpus.lda-c')):\n",
    "    print('Creating dictionary...')\n",
    "    %time dictionary = corpora.Dictionary.load('tmp/cyberbullying_dictionary.dict')\n",
    "    print('Creating corpus...')\n",
    "    %time corpus = corpora.BleiCorpus('tmp/cyberbullying_corpus.lda-c')\n",
    "else:\n",
    "    print(\"Create the dictionary and corpus first\")"
   ]
  },
  {
   "cell_type": "code",
   "execution_count": 29,
   "metadata": {},
   "outputs": [
    {
     "name": "stdout",
     "output_type": "stream",
     "text": [
      "CPU times: user 2min 35s, sys: 120 ms, total: 2min 35s\n",
      "Wall time: 2min 35s\n"
     ]
    }
   ],
   "source": [
    "#Initialize a model\n",
    "#print('Creating Tfidf model...')\n",
    "#%time tfidf = models.TfidfModel(corpus)\n",
    "#corpus_tfidf = tfidf[corpus]\n",
    "\n",
    "#Create a LDA Model and save it\n",
    "%time lda = ldamodel.LdaModel(corpus, num_topics=4, id2word=dictionary)\n",
    "lda.save('tmp/cyberbullying_ldaModel.lda')"
   ]
  },
  {
   "cell_type": "code",
   "execution_count": null,
   "metadata": {
    "collapsed": true
   },
   "outputs": [],
   "source": [
    "#Load LDA Model\n",
    "lda = models.LdaModel.load('tmp/cyberbullying_ldaModel.lda')"
   ]
  },
  {
   "cell_type": "code",
   "execution_count": 30,
   "metadata": {},
   "outputs": [
    {
     "data": {
      "text/plain": [
       "[(0,\n",
       "  u'0.088*\"you\" + 0.077*\"your\" + 0.021*\"it\" + 0.011*\"face\" + 0.008*\"get\" + 0.008*\"hair\" + 0.008*\"make\" + 0.006*\"say\" + 0.005*\"one\" + 0.005*\"could\" + 0.005*\"would\" + 0.005*\"back\" + 0.005*\"want\" + 0.005*\"post\" + 0.005*\"eye\" + 0.004*\"see\" + 0.004*\"think\" + 0.004*\"even\" + 0.004*\"roast\" + 0.004*\"picture\" + 0.004*\"know\" + 0.004*\"thing\" + 0.004*\"use\" + 0.004*\"u\" + 0.004*\"people\" + 0.004*\"bet\" + 0.004*\"cum\" + 0.003*\"forehead\" + 0.003*\"parent\" + 0.003*\"trying\" + 0.003*\"please\" + 0.003*\"enough\" + 0.003*\"life\" + 0.003*\"going\" + 0.003*\"need\" + 0.003*\"good\" + 0.003*\"never\" + 0.003*\"friend\" + 0.003*\"probably\" + 0.003*\"already\" + 0.003*\"rape\" + 0.003*\"dad\" + 0.003*\"much\" + 0.003*\"time\" + 0.003*\"still\" + 0.003*\"eyebrow\" + 0.003*\"head\" + 0.003*\"hand\" + 0.003*\"shirt\" + 0.003*\"he\" + 0.003*\"take\" + 0.003*\"try\" + 0.003*\"go\" + 0.003*\"sure\" + 0.002*\"away\" + 0.002*\"way\" + 0.002*\"put\" + 0.002*\"least\" + 0.002*\"mom\" + 0.002*\"give\" + 0.002*\"nose\" + 0.002*\"got\" + 0.002*\"really\" + 0.002*\"girl\" + 0.002*\"keep\" + 0.002*\"another\" + 0.002*\"might\" + 0.002*\"well\" + 0.002*\"come\" + 0.002*\"glass\" + 0.002*\"subreddit\" + 0.002*\"tell\" + 0.002*\"feel\" + 0.002*\"hate\" + 0.002*\"daddy\" + 0.002*\"made\" + 0.002*\"hairline\" + 0.002*\"boyfriend\" + 0.002*\"always\" + 0.002*\"working\" + 0.002*\"someone\" + 0.002*\"guy\" + 0.002*\"actually\" + 0.002*\"hope\" + 0.002*\"job\" + 0.002*\"ear\" + 0.002*\"report\" + 0.002*\"right\" + 0.002*\"look\" + 0.002*\"left\" + 0.002*\"better\" + 0.002*\"two\" + 0.002*\"hard\" + 0.002*\"nice\" + 0.002*\"she\" + 0.002*\"god\" + 0.002*\"day\" + 0.002*\"taken\" + 0.002*\"bad\" + 0.002*\"comment\"'),\n",
       " (1,\n",
       "  u'0.045*\"your\" + 0.033*\"you\" + 0.014*\"bitch\" + 0.013*\"it\" + 0.012*\"he\" + 0.010*\"shitty\" + 0.010*\"face\" + 0.009*\"pussy\" + 0.009*\"suck\" + 0.008*\"hair\" + 0.007*\"cock\" + 0.006*\"time\" + 0.006*\"get\" + 0.006*\"say\" + 0.005*\"as\" + 0.005*\"she\" + 0.005*\"head\" + 0.005*\"vagina\" + 0.004*\"one\" + 0.004*\"body\" + 0.004*\"girl\" + 0.004*\"fat\" + 0.004*\"tit\" + 0.004*\"seen\" + 0.004*\"first\" + 0.004*\"rapist\" + 0.004*\"cunt\" + 0.004*\"half\" + 0.003*\"man\" + 0.003*\"fuckin\" + 0.003*\"would\" + 0.003*\"dude\" + 0.003*\"got\" + 0.003*\"semen\" + 0.003*\"go\" + 0.003*\"r\" + 0.003*\"top\" + 0.003*\"year\" + 0.003*\"guy\" + 0.003*\"sure\" + 0.003*\"chin\" + 0.003*\"pretty\" + 0.003*\"know\" + 0.003*\"take\" + 0.003*\"tell\" + 0.003*\"many\" + 0.002*\"think\" + 0.002*\"eye\" + 0.002*\"future\" + 0.002*\"thing\" + 0.002*\"ever\" + 0.002*\"incest\" + 0.002*\"bet\" + 0.002*\"lost\" + 0.002*\"probably\" + 0.002*\"porno\" + 0.002*\"bottom\" + 0.002*\"old\" + 0.002*\"also\" + 0.002*\"woman\" + 0.002*\"paper\" + 0.002*\"wrong\" + 0.002*\"eyebrow\" + 0.002*\"room\" + 0.002*\"motherfucker\" + 0.002*\"nose\" + 0.002*\"laid\" + 0.002*\"bag\" + 0.002*\"roast\" + 0.002*\"something\" + 0.002*\"new\" + 0.002*\"shirt\" + 0.002*\"lip\" + 0.002*\"still\" + 0.002*\"hit\" + 0.002*\"forehead\" + 0.002*\"reddit\" + 0.002*\"never\" + 0.002*\"wow\" + 0.002*\"way\" + 0.002*\"need\" + 0.002*\"life\" + 0.002*\"getting\" + 0.002*\"even\" + 0.002*\"chance\" + 0.002*\"nice\" + 0.002*\"saw\" + 0.002*\"side\" + 0.002*\"autism\" + 0.002*\"chick\" + 0.002*\"thought\" + 0.002*\"pack\" + 0.002*\"masturbate\" + 0.001*\"lose\" + 0.001*\"lookin\" + 0.001*\"behind\" + 0.001*\"chris\" + 0.001*\"much\" + 0.001*\"left\" + 0.001*\"seeing\"'),\n",
       " (2,\n",
       "  u'0.100*\"like\" + 0.098*\"you\" + 0.090*\"look\" + 0.026*\"shit\" + 0.022*\"fucking\" + 0.017*\"dick\" + 0.016*\"he\" + 0.011*\"guy\" + 0.010*\"your\" + 0.009*\"it\" + 0.006*\"kid\" + 0.006*\"porn\" + 0.005*\"one\" + 0.005*\"child\" + 0.005*\"would\" + 0.004*\"got\" + 0.004*\"faggot\" + 0.004*\"someone\" + 0.004*\"gay\" + 0.004*\"kind\" + 0.004*\"pubes\" + 0.004*\"girl\" + 0.004*\"head\" + 0.004*\"face\" + 0.003*\"fucked\" + 0.003*\"nigga\" + 0.003*\"type\" + 0.003*\"school\" + 0.003*\"get\" + 0.003*\"brother\" + 0.003*\"version\" + 0.003*\"make\" + 0.003*\"dude\" + 0.003*\"retarded\" + 0.002*\"mr\" + 0.002*\"butt\" + 0.002*\"love\" + 0.002*\"every\" + 0.002*\"cousin\" + 0.002*\"smell\" + 0.002*\"fat\" + 0.002*\"already\" + 0.002*\"old\" + 0.002*\"year\" + 0.002*\"middle\" + 0.002*\"jesus\" + 0.002*\"little\" + 0.002*\"baby\" + 0.002*\"white\" + 0.002*\"god\" + 0.002*\"man\" + 0.002*\"movie\" + 0.002*\"asian\" + 0.002*\"bastard\" + 0.002*\"meth\" + 0.002*\"made\" + 0.001*\"son\" + 0.001*\"person\" + 0.001*\"way\" + 0.001*\"hair\" + 0.001*\"shoot\" + 0.001*\"life\" + 0.001*\"syndrome\" + 0.001*\"holy\" + 0.001*\"boy\" + 0.001*\"as\" + 0.001*\"band\" + 0.001*\"oh\" + 0.001*\"woman\" + 0.001*\"right\" + 0.001*\"left\" + 0.001*\"character\" + 0.001*\"le\" + 0.001*\"go\" + 0.001*\"hit\" + 0.001*\"young\" + 0.001*\"puberty\" + 0.001*\"black\" + 0.001*\"hooker\" + 0.001*\"really\" + 0.001*\"two\" + 0.001*\"went\" + 0.001*\"people\" + 0.001*\"star\" + 0.001*\"looking\" + 0.001*\"hole\" + 0.001*\"potato\" + 0.001*\"day\" + 0.001*\"know\" + 0.001*\"even\" + 0.001*\"mom\" + 0.001*\"try\" + 0.001*\"human\" + 0.001*\"half\" + 0.001*\"time\" + 0.001*\"tell\" + 0.001*\"looked\" + 0.001*\"bad\" + 0.001*\"poster\" + 0.001*\"she\"'),\n",
       " (3,\n",
       "  u'0.078*\"you\" + 0.035*\"fuck\" + 0.015*\"sex\" + 0.012*\"it\" + 0.010*\"he\" + 0.010*\"your\" + 0.009*\"guy\" + 0.009*\"one\" + 0.008*\"she\" + 0.008*\"know\" + 0.007*\"school\" + 0.007*\"year\" + 0.006*\"get\" + 0.006*\"kid\" + 0.005*\"roast\" + 0.005*\"girl\" + 0.005*\"would\" + 0.005*\"going\" + 0.005*\"even\" + 0.005*\"old\" + 0.004*\"deleted\" + 0.004*\"see\" + 0.004*\"go\" + 0.004*\"asshole\" + 0.004*\"show\" + 0.004*\"man\" + 0.004*\"tell\" + 0.004*\"need\" + 0.003*\"people\" + 0.003*\"think\" + 0.003*\"u\" + 0.003*\"let\" + 0.003*\"penis\" + 0.003*\"mom\" + 0.003*\"right\" + 0.003*\"time\" + 0.003*\"high\" + 0.003*\"good\" + 0.003*\"really\" + 0.003*\"pedophile\" + 0.003*\"thought\" + 0.003*\"sister\" + 0.003*\"want\" + 0.003*\"boy\" + 0.003*\"virgin\" + 0.003*\"oh\" + 0.003*\"picture\" + 0.003*\"life\" + 0.003*\"make\" + 0.002*\"ever\" + 0.002*\"call\" + 0.002*\"gay\" + 0.002*\"back\" + 0.002*\"guess\" + 0.002*\"roasted\" + 0.002*\"looking\" + 0.002*\"said\" + 0.002*\"special\" + 0.002*\"friend\" + 0.002*\"got\" + 0.002*\"never\" + 0.002*\"day\" + 0.002*\"well\" + 0.002*\"already\" + 0.002*\"could\" + 0.002*\"little\" + 0.002*\"probably\" + 0.002*\"take\" + 0.002*\"better\" + 0.002*\"like\" + 0.002*\"chromosome\" + 0.002*\"ugly\" + 0.002*\"still\" + 0.002*\"found\" + 0.002*\"paper\" + 0.002*\"r\" + 0.002*\"next\" + 0.002*\"class\" + 0.002*\"bet\" + 0.002*\"many\" + 0.002*\"college\" + 0.002*\"extra\" + 0.002*\"last\" + 0.002*\"lesbian\" + 0.002*\"boob\" + 0.002*\"abortion\" + 0.002*\"definitely\" + 0.002*\"hey\" + 0.002*\"change\" + 0.002*\"mean\" + 0.002*\"nice\" + 0.002*\"anal\" + 0.002*\"gt\" + 0.002*\"stay\" + 0.002*\"actually\" + 0.002*\"work\" + 0.002*\"play\" + 0.002*\"room\" + 0.002*\"light\" + 0.002*\"basement\"')]"
      ]
     },
     "execution_count": 30,
     "metadata": {},
     "output_type": "execute_result"
    }
   ],
   "source": [
    "#Print Word Topic Distribution for 100 words\n",
    "lda.print_topics(4,100)"
   ]
  },
  {
   "cell_type": "code",
   "execution_count": null,
   "metadata": {
    "collapsed": true
   },
   "outputs": [],
   "source": [
    "#Get top 10 terms of topic 0\n",
    "for word_id, prob in lda.get_topic_terms(1,10):\n",
    "    print(dictionary[word_id])"
   ]
  },
  {
   "cell_type": "code",
   "execution_count": null,
   "metadata": {
    "collapsed": true
   },
   "outputs": [],
   "source": []
  }
 ],
 "metadata": {
  "kernelspec": {
   "display_name": "Python 2",
   "language": "python",
   "name": "python2"
  },
  "language_info": {
   "codemirror_mode": {
    "name": "ipython",
    "version": 2
   },
   "file_extension": ".py",
   "mimetype": "text/x-python",
   "name": "python",
   "nbconvert_exporter": "python",
   "pygments_lexer": "ipython2",
   "version": "2.7.13"
  }
 },
 "nbformat": 4,
 "nbformat_minor": 2
}
