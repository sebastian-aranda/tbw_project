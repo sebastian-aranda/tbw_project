{
 "cells": [
  {
   "cell_type": "markdown",
   "metadata": {},
   "source": [
    "<h1>Proyecto Tecnologías de Búsqueda en la Web</h1>\n",
    "<h3>Integrantes</h3>\n",
    "<ul><li>Sebastián Aranda</li><li>Felipe Santander</li></ul>"
   ]
  },
  {
   "cell_type": "markdown",
   "metadata": {},
   "source": [
    "<h2>Librerías</h2>"
   ]
  },
  {
   "cell_type": "code",
   "execution_count": 104,
   "metadata": {
    "collapsed": true
   },
   "outputs": [],
   "source": [
    "import gensim\n",
    "from gensim import corpora\n",
    "from gensim.corpora import Dictionary, bleicorpus\n",
    "from gensim.models import ldamodel\n",
    "from gensim.models import Phrases\n",
    "\n",
    "from collections import defaultdict\n",
    "\n",
    "import nltk\n",
    "from nltk.corpus import stopwords\n",
    "from nltk.stem.wordnet import WordNetLemmatizer\n",
    "\n",
    "import matplotlib.pyplot as plt\n",
    "import numpy as np\n",
    "\n",
    "from random import randint\n",
    "from __future__ import division\n",
    "\n",
    "import pyLDAvis\n",
    "import re\n",
    "import os\n",
    "import json\n",
    "import operator"
   ]
  },
  {
   "cell_type": "markdown",
   "metadata": {},
   "source": [
    "<h2>Creación del Corpus</h2>"
   ]
  },
  {
   "cell_type": "markdown",
   "metadata": {},
   "source": [
    "<h6>Rutas a Datasets</h6>"
   ]
  },
  {
   "cell_type": "code",
   "execution_count": 105,
   "metadata": {
    "collapsed": true
   },
   "outputs": [],
   "source": [
    "roastme_dataset_path = \"Corpus_builder_and_pre/Dataset/\"\n",
    "positive_dataset_path = \"Corpus_builder_and_pre/Positivos/\"\n",
    "#balance_dataset_path = \"Corpus_builder_and_pre/Neutros&Positivos/\""
   ]
  },
  {
   "cell_type": "markdown",
   "metadata": {},
   "source": [
    "<h6>Construcción del Corpus</h6>"
   ]
  },
  {
   "cell_type": "code",
   "execution_count": 127,
   "metadata": {},
   "outputs": [
    {
     "name": "stdout",
     "output_type": "stream",
     "text": [
      "Dataset Size\n",
      "605\n"
     ]
    }
   ],
   "source": [
    "puncts = \".,:;?!()[]{}~+-\\\"\\'#$%&\\/*^|\"\n",
    "digits = \"0123456789\"\n",
    "#Create bad words list\n",
    "bad_words = []\n",
    "with open('badwords_v2.txt','r') as bad_words_file:\n",
    "    for word in bad_words_file:\n",
    "        word = word.split('-')[0].strip()\n",
    "        word = word.replace('\\n','').decode('unicode_escape').encode('ascii','ignore')\n",
    "        if word != '':\n",
    "            bad_words.append(word)\n",
    "\n",
    "#Create the corpus\n",
    "corpus = list()\n",
    "for name in os.listdir(roastme_dataset_path):\n",
    "    if (len(corpus)>300):\n",
    "        break\n",
    "    if name.endswith('.json'):\n",
    "        with open(roastme_dataset_path+'/'+name) as f:\n",
    "            op_json = json.loads(f.read())\n",
    "            try:\n",
    "                for child in op_json[1]['data']['children']:    \n",
    "                    #Extract the comment\n",
    "                    comment_text = child['data']['body'].encode('ascii', 'ignore').replace('\\n', ' ')\n",
    "                    #Delete links\n",
    "                    comment_text = re.sub(r'\\w+:\\/{2}[\\d\\w-]+(\\.[\\d\\w-]+)*(?:(?:\\/[^\\s/]*))*', '', comment_text)\n",
    "                    for sym in puncts:\n",
    "                        comment_text = comment_text.replace(sym,\" \")\n",
    "                    for num in digits:\n",
    "                        comment_text = comment_text.replace(num,\" \")\n",
    "                    \n",
    "                    tokens_comment = [word for word in comment_text.lower().split()]\n",
    "                    \n",
    "                    if (randint(1,10)<=8):\n",
    "                        tokens_comment.append(bad_words[randint(0,len(bad_words)-1)])\n",
    "                        tokens_comment.append(bad_words[randint(0,len(bad_words)-1)])\n",
    "                        \n",
    "                    corpus.append(tokens_comment)\n",
    "                        \n",
    "                    try:\n",
    "                        for child in child['data']['replies']['data']['children']:\n",
    "                            comment_text = child['data']['body'].encode('ascii', 'ignore').replace('\\n', ' ')\n",
    "                            comment_text = re.sub(r'\\w+:\\/{2}[\\d\\w-]+(\\.[\\d\\w-]+)*(?:(?:\\/[^\\s/]*))*', '', comment_text)\n",
    "                    \n",
    "                            for sym in puncts:\n",
    "                                comment_text = comment_text.replace(sym,\" \")\n",
    "                            for num in digits:\n",
    "                                comment_text = comment_text.replace(num,\" \")\n",
    "                        \n",
    "                            tokens_comment = [word for word in comment_text.lower().split()]\n",
    "                            \n",
    "                            if (randint(1,10)<=8):\n",
    "                                tokens_comment.append(bad_words[randint(0,len(bad_words)-1)])\n",
    "                                tokens_comment.append(bad_words[randint(0,len(bad_words)-1)])\n",
    "                                \n",
    "                            corpus.append(tokens_comment)\n",
    "                                \n",
    "                    except Exception as e:\n",
    "                        #print(e)\n",
    "                        pass\n",
    "                    \n",
    "            except Exception as e:\n",
    "                #print(e)\n",
    "                pass\n",
    "\n",
    "for name in os.listdir(positive_dataset_path):\n",
    "    if (len(corpus)>600):\n",
    "        break\n",
    "    if name.endswith('.json'):\n",
    "        with open(positive_dataset_path+'/'+name) as f:\n",
    "            op_json = json.loads(f.read())\n",
    "            try:\n",
    "                for child in op_json[1]['data']['children']:    \n",
    "                    #Extract the comment\n",
    "                    comment_text = child['data']['body'].encode('ascii', 'ignore').replace('\\n', ' ')\n",
    "                    #Delete links\n",
    "                    comment_text = re.sub(r'\\w+:\\/{2}[\\d\\w-]+(\\.[\\d\\w-]+)*(?:(?:\\/[^\\s/]*))*', '', comment_text)\n",
    "                    for sym in puncts:\n",
    "                        comment_text = comment_text.replace(sym,\" \")\n",
    "                    for num in digits:\n",
    "                        comment_text = comment_text.replace(num,\" \")\n",
    "                    \n",
    "                    tokens_comment = [word for word in comment_text.lower().split()]        \n",
    "                    corpus.append(tokens_comment)\n",
    "                        \n",
    "                    try:\n",
    "                        for child in child['data']['replies']['data']['children']:\n",
    "                            comment_text = child['data']['body'].encode('ascii', 'ignore').replace('\\n', ' ')\n",
    "                            comment_text = re.sub(r'\\w+:\\/{2}[\\d\\w-]+(\\.[\\d\\w-]+)*(?:(?:\\/[^\\s/]*))*', '', comment_text)\n",
    "                    \n",
    "                            for sym in puncts:\n",
    "                                comment_text = comment_text.replace(sym,\" \")\n",
    "                            for num in digits:\n",
    "                                comment_text = comment_text.replace(num,\" \")\n",
    "                        \n",
    "                            tokens_comment = [word for word in comment_text.lower().split()]\n",
    "                            corpus.append(tokens_comment)\n",
    "                                \n",
    "                    except Exception as e:\n",
    "                        pass\n",
    "                    \n",
    "            except Exception as e:\n",
    "                pass\n",
    "\n",
    "print(\"Dataset Size\")\n",
    "print(len(corpus))\n",
    "#TODO: guardar corpus de texto con pickle"
   ]
  },
  {
   "cell_type": "markdown",
   "metadata": {},
   "source": [
    "<h6>Procesamiento del Corpus</h6>"
   ]
  },
  {
   "cell_type": "code",
   "execution_count": 128,
   "metadata": {
    "collapsed": true
   },
   "outputs": [],
   "source": [
    "#Remove lone letters\n",
    "corpus = [[word for word in doc if len(word)>1] for doc in corpus]\n",
    "\n",
    "#Remove stopwords\n",
    "corpus = [[word for word in doc if word not in stopwords.words('english')] for doc in corpus]\n",
    "\n",
    "# Lemmatize all words in documents.\n",
    "lemmatizer = WordNetLemmatizer()\n",
    "corpus = [[lemmatizer.lemmatize(word) for word in doc] for doc in corpus]\n",
    "\n",
    "#Get Trigrams\n",
    "#bigram = Phrases(corpus)\n",
    "#trigram = Phrases(bigram[corpus])\n",
    "#for idx in range(len(corpus)):\n",
    "#    for token in trigram[corpus[idx]]:\n",
    "#            if '_' in token:\n",
    "#                corpus[idx].append(token)"
   ]
  },
  {
   "cell_type": "markdown",
   "metadata": {},
   "source": [
    "<h6>Transformación del Corpus a espacio de vectores</h6>"
   ]
  },
  {
   "cell_type": "code",
   "execution_count": 129,
   "metadata": {
    "collapsed": true
   },
   "outputs": [],
   "source": [
    "#Create dictionary\n",
    "dictionary = corpora.Dictionary(corpus)\n",
    "#dictionary.filter_extremes(no_below=len(dictionary)*0.001, no_above=0.75)\n",
    "\n",
    "#Convert documents to vectors\n",
    "corpus = [dictionary.doc2bow(doc) for doc in corpus]\n",
    "\n",
    "#Save corpus and dictionary\n",
    "corpora.BleiCorpus.serialize('tmp/cyberbullying_corpus.lda-c', corpus)\n",
    "dictionary.save('tmp/cyberbullying_dictionary.dict')"
   ]
  },
  {
   "cell_type": "markdown",
   "metadata": {},
   "source": [
    "<h1>Características para Clasificación</h1>\n",
    "<ul>\n",
    "<li>Porcentaje de pertenencia al tópico generado de LDA en Roastme Dataset</li>\n",
    "<li>Densidad de Badwords</li>\n",
    "<li>TODO: Polaridad</li>\n",
    "</ul>"
   ]
  },
  {
   "cell_type": "code",
   "execution_count": null,
   "metadata": {
    "collapsed": true
   },
   "outputs": [],
   "source": [
    "#Load the dictionary and corpus\n",
    "if (os.path.exists('tmp/cyberbullying_dictionary.dict') and os.path.exists('tmp/cyberbullying_corpus.lda-c')):\n",
    "    print('Creating dictionary...')\n",
    "    %time dictionary = corpora.Dictionary.load('tmp/cyberbullying_dictionary.dict')\n",
    "    print('Creating corpus...')\n",
    "    %time corpus = corpora.BleiCorpus('tmp/cyberbullying_corpus.lda-c')\n",
    "else:\n",
    "    print(\"Create the dictionary and corpus first\")"
   ]
  },
  {
   "cell_type": "markdown",
   "metadata": {},
   "source": [
    "<h3>LDA Features</h3>"
   ]
  },
  {
   "cell_type": "code",
   "execution_count": 126,
   "metadata": {},
   "outputs": [
    {
     "name": "stdout",
     "output_type": "stream",
     "text": [
      "CPU times: user 8.32 s, sys: 112 ms, total: 8.44 s\n",
      "Wall time: 8.54 s\n"
     ]
    },
    {
     "data": {
      "text/plain": [
       "[(0,\n",
       "  u'0.112*\"okay\" + 0.093*\"dog\" + 0.081*\"perfection\" + 0.081*\"closer\" + 0.068*\"get\" + 0.049*\"help\" + 0.046*\"u\" + 0.004*\"like\" + 0.003*\"look\" + 0.003*\"look_like\" + 0.002*\"one\" + 0.002*\"make\" + 0.002*\"love\" + 0.002*\"face\" + 0.001*\"guy\" + 0.001*\"wholesome\" + 0.001*\"feel\" + 0.001*\"thing\" + 0.001*\"think\" + 0.001*\"people\" + 0.001*\"say\" + 0.001*\"friend\" + 0.001*\"would\" + 0.001*\"good\" + 0.001*\"really\" + 0.001*\"time\" + 0.001*\"hair\" + 0.001*\"going\" + 0.001*\"post\" + 0.001*\"go\" + 0.001*\"life\" + 0.001*\"way\" + 0.001*\"as\" + 0.001*\"meme\" + 0.001*\"right\" + 0.001*\"got\" + 0.001*\"see\" + 0.001*\"never\" + 0.001*\"even\" + 0.001*\"need\" + 0.001*\"day\" + 0.001*\"bad\" + 0.001*\"know\" + 0.001*\"much\" + 0.001*\"school\" + 0.001*\"fuck\" + 0.001*\"better\" + 0.001*\"dick\" + 0.001*\"happy\" + 0.001*\"place\" + 0.001*\"kid\" + 0.001*\"though\" + 0.001*\"also\" + 0.001*\"still\" + 0.001*\"maybe\" + 0.001*\"brother\" + 0.001*\"damn\" + 0.001*\"trying\" + 0.001*\"night\" + 0.001*\"take\" + 0.001*\"ever\" + 0.001*\"head\" + 0.001*\"first\" + 0.001*\"fucking\" + 0.001*\"sub\" + 0.001*\"new\" + 0.001*\"girl\" + 0.001*\"year\" + 0.001*\"pretty\" + 0.001*\"comic\" + 0.001*\"bet\" + 0.001*\"sure\" + 0.001*\"dude\" + 0.001*\"back\" + 0.001*\"fun\" + 0.001*\"could\" + 0.001*\"nice\" + 0.001*\"deleted\" + 0.000*\"thanks\" + 0.000*\"hope\" + 0.000*\"great\" + 0.000*\"kind\" + 0.000*\"picture\" + 0.000*\"op\" + 0.000*\"work\" + 0.000*\"always\" + 0.000*\"well\" + 0.000*\"best\" + 0.000*\"come\" + 0.000*\"comment\" + 0.000*\"find\" + 0.000*\"seen\" + 0.000*\"everyone\" + 0.000*\"two\" + 0.000*\"pussy\" + 0.000*\"ball\" + 0.000*\"mean\" + 0.000*\"looking\" + 0.000*\"actually\" + 0.000*\"let\"'),\n",
       " (1,\n",
       "  u'0.101*\"u\" + 0.098*\"help\" + 0.083*\"get\" + 0.067*\"perfection\" + 0.067*\"closer\" + 0.057*\"dog\" + 0.039*\"okay\" + 0.007*\"like\" + 0.005*\"look\" + 0.004*\"look_like\" + 0.002*\"one\" + 0.002*\"people\" + 0.002*\"day\" + 0.002*\"good\" + 0.002*\"think\" + 0.001*\"make\" + 0.001*\"know\" + 0.001*\"time\" + 0.001*\"want\" + 0.001*\"guy\" + 0.001*\"really\" + 0.001*\"great\" + 0.001*\"would\" + 0.001*\"nice\" + 0.001*\"thank\" + 0.001*\"thing\" + 0.001*\"friend\" + 0.001*\"even\" + 0.001*\"thanks\" + 0.001*\"much\" + 0.001*\"sub\" + 0.001*\"still\" + 0.001*\"post\" + 0.001*\"face\" + 0.001*\"love\" + 0.001*\"life\" + 0.001*\"right\" + 0.001*\"back\" + 0.001*\"lot\" + 0.001*\"also\" + 0.001*\"see\" + 0.001*\"could\" + 0.001*\"way\" + 0.001*\"man\" + 0.001*\"hope\" + 0.001*\"feel\" + 0.001*\"something\" + 0.001*\"say\" + 0.001*\"happy\" + 0.001*\"deleted\" + 0.001*\"meme\" + 0.001*\"year\" + 0.001*\"girl\" + 0.001*\"always\" + 0.001*\"try\" + 0.001*\"little\" + 0.001*\"everyone\" + 0.001*\"well\" + 0.001*\"cry\" + 0.001*\"never\" + 0.001*\"job\" + 0.001*\"made\" + 0.001*\"go\" + 0.001*\"got\" + 0.001*\"gt\" + 0.001*\"eye\" + 0.001*\"work\" + 0.001*\"take\" + 0.001*\"sure\" + 0.001*\"photo\" + 0.001*\"picture\" + 0.001*\"gay\" + 0.001*\"first\" + 0.001*\"home\" + 0.001*\"someone\" + 0.001*\"give\" + 0.001*\"kind\" + 0.001*\"fuck\" + 0.001*\"actually\" + 0.001*\"tell\" + 0.001*\"self\" + 0.001*\"shirt\" + 0.001*\"put\" + 0.001*\"better\" + 0.001*\"best\" + 0.001*\"need\" + 0.000*\"real\" + 0.000*\"seen\" + 0.000*\"please\" + 0.000*\"many\" + 0.000*\"come\" + 0.000*\"dude\" + 0.000*\"op\" + 0.000*\"boy\" + 0.000*\"long\" + 0.000*\"new\" + 0.000*\"old\" + 0.000*\"thought\" + 0.000*\"wholesome\" + 0.000*\"cat\"')]"
      ]
     },
     "execution_count": 126,
     "metadata": {},
     "output_type": "execute_result"
    }
   ],
   "source": [
    "#Initialize a model\n",
    "#print('Creating Tfidf model...')\n",
    "#tfidf = gensim.models.TfidfModel(corpus)\n",
    "#corpus_tfidf = tfidf[corpus]\n",
    "#lda_model_tfidf = ldamodel.LdaModel(corpus_tfidf, num_topics=2, id2word=dictionary)\n",
    "\n",
    "%time lda_model = ldamodel.LdaModel(corpus, num_topics=2, id2word=dictionary)\n",
    "lda_model.save('tmp/cyberbullying_ldaModel.lda')\n",
    "lda_model.print_topics(2,100)\n",
    "#doc1bow = dictionary.doc2bow(doc1)\n",
    "#print(lda_model[doc1bow])\n",
    "\n",
    "#lda_features = []\n",
    "#for docbow in corpus:\n",
    "#    lda_features.append(lda_model[docbow][0])\n",
    "#print(lda_features)"
   ]
  },
  {
   "cell_type": "code",
   "execution_count": 47,
   "metadata": {},
   "outputs": [
    {
     "name": "stdout",
     "output_type": "stream",
     "text": [
      "[(0, 1.0)]\n"
     ]
    }
   ],
   "source": [
    "print(lda_model[dictionary.doc2bow(\"bitch kid\".split())])"
   ]
  },
  {
   "cell_type": "markdown",
   "metadata": {},
   "source": [
    "<h3>Bad Words Features</h3>"
   ]
  },
  {
   "cell_type": "code",
   "execution_count": 89,
   "metadata": {},
   "outputs": [
    {
     "ename": "ValueError",
     "evalue": "too many values to unpack",
     "output_type": "error",
     "traceback": [
      "\u001b[0;31m---------------------------------------------------------------------------\u001b[0m",
      "\u001b[0;31mValueError\u001b[0m                                Traceback (most recent call last)",
      "\u001b[0;32m<ipython-input-89-98a22da4e349>\u001b[0m in \u001b[0;36m<module>\u001b[0;34m()\u001b[0m\n\u001b[1;32m     11\u001b[0m \u001b[0mbad_words_features\u001b[0m \u001b[0;34m=\u001b[0m \u001b[0;34m[\u001b[0m\u001b[0;34m]\u001b[0m\u001b[0;34m\u001b[0m\u001b[0m\n\u001b[1;32m     12\u001b[0m \u001b[0;32mfor\u001b[0m \u001b[0mdocbow\u001b[0m \u001b[0;32min\u001b[0m \u001b[0mcorpus\u001b[0m\u001b[0;34m:\u001b[0m\u001b[0;34m\u001b[0m\u001b[0m\n\u001b[0;32m---> 13\u001b[0;31m         \u001b[0mbad_words_features\u001b[0m\u001b[0;34m.\u001b[0m\u001b[0mappend\u001b[0m\u001b[0;34m(\u001b[0m\u001b[0msum\u001b[0m\u001b[0;34m(\u001b[0m\u001b[0;34m[\u001b[0m\u001b[0mfreq\u001b[0m \u001b[0;32mfor\u001b[0m \u001b[0mword_id\u001b[0m\u001b[0;34m,\u001b[0m\u001b[0mfreq\u001b[0m \u001b[0;32min\u001b[0m \u001b[0mdocbow\u001b[0m \u001b[0;32mif\u001b[0m \u001b[0mword_id\u001b[0m \u001b[0;32min\u001b[0m \u001b[0mbad_words_ids\u001b[0m\u001b[0;34m]\u001b[0m\u001b[0;34m)\u001b[0m\u001b[0;34m)\u001b[0m\u001b[0;34m\u001b[0m\u001b[0m\n\u001b[0m\u001b[1;32m     14\u001b[0m \u001b[0;32mprint\u001b[0m\u001b[0;34m(\u001b[0m\u001b[0mbad_words_features\u001b[0m\u001b[0;34m)\u001b[0m\u001b[0;34m\u001b[0m\u001b[0m\n",
      "\u001b[0;31mValueError\u001b[0m: too many values to unpack"
     ]
    }
   ],
   "source": [
    "#Create bad words list\n",
    "bad_words = []\n",
    "with open('badwords','r') as bad_words_file:\n",
    "    for word in bad_words_file:\n",
    "        word = word.replace('\\n','').decode('unicode_escape').encode('ascii','ignore')\n",
    "        if word != '':\n",
    "            bad_words.append(word)\n",
    "\n",
    "bad_words_ids = [word_id for word_id, word in dictionary.iteritems() if word in bad_words]\n",
    "\n",
    "bad_words_features = []\n",
    "for docbow in corpus:\n",
    "        bad_words_features.append(sum([freq for word_id,freq in docbow if word_id in bad_words_ids]))\n",
    "print(bad_words_features)"
   ]
  },
  {
   "cell_type": "markdown",
   "metadata": {},
   "source": [
    "<h1>Validación Cruzada</h1>"
   ]
  },
  {
   "cell_type": "code",
   "execution_count": null,
   "metadata": {
    "collapsed": true
   },
   "outputs": [],
   "source": [
    "from sklearn.cross_validation import train_test_split\n",
    "X = zip(lda_features,bad_words_features)\n",
    "y = [1 for doc in corpus] #Supuesto todos son agresivos\n",
    "X_train, X_test, y_train, y_test = train_test_split(X, y, test_size = .7)\n",
    "\n",
    "from sklearn.neighbors import KNeighborsClassifier\n",
    "KNeighborsClassifier.fit(X_train, y_train)\n",
    "predictions = KNeighborsClassifier.predict(X_test)\n",
    "\n",
    "from sklearn.metrics import accuracy_score\n",
    "print(accuracy_score(y_test, predictions))"
   ]
  }
 ],
 "metadata": {
  "kernelspec": {
   "display_name": "Python 2",
   "language": "python",
   "name": "python2"
  },
  "language_info": {
   "codemirror_mode": {
    "name": "ipython",
    "version": 2
   },
   "file_extension": ".py",
   "mimetype": "text/x-python",
   "name": "python",
   "nbconvert_exporter": "python",
   "pygments_lexer": "ipython2",
   "version": "2.7.13"
  }
 },
 "nbformat": 4,
 "nbformat_minor": 2
}
