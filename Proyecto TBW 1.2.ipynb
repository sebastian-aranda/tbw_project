{
 "cells": [
  {
   "cell_type": "markdown",
   "metadata": {},
   "source": [
    "<h1>Proyecto Tecnologías de Búsqueda en la Web</h1>\n",
    "<h3>Integrantes</h3>\n",
    "<ul><li>Sebastián Aranda</li><li>Felipe Santander</li></ul>"
   ]
  },
  {
   "cell_type": "markdown",
   "metadata": {},
   "source": [
    "<h2>Librerías</h2>"
   ]
  },
  {
   "cell_type": "code",
   "execution_count": 2,
   "metadata": {
    "collapsed": true
   },
   "outputs": [],
   "source": [
    "import gensim\n",
    "from gensim import corpora\n",
    "from gensim.corpora import Dictionary, bleicorpus\n",
    "from gensim.models import ldamodel\n",
    "from gensim.models import Phrases\n",
    "\n",
    "from collections import defaultdict\n",
    "\n",
    "import nltk\n",
    "from nltk.corpus import stopwords\n",
    "from nltk.stem.wordnet import WordNetLemmatizer\n",
    "\n",
    "from random import randint\n",
    "\n",
    "import pyLDAvis\n",
    "import re\n",
    "import os\n",
    "import json"
   ]
  },
  {
   "cell_type": "markdown",
   "metadata": {},
   "source": [
    "<h2>Creación del Corpus</h2>"
   ]
  },
  {
   "cell_type": "code",
   "execution_count": 3,
   "metadata": {
    "collapsed": true
   },
   "outputs": [],
   "source": [
    "corpus_path = \"cyberbullying_corpus/\"\n",
    "roastme_dataset_path = \"Corpus_builder_and_pre/Dataset/\"\n",
    "balance_dataset_path = \"Corpus_builder_and_pre/Neutros&Positivos/\"\n",
    "#corpus_path = \"corpus_lda/corpus_lda.lda_c\"\n",
    "#dictionary_path =\"corpus_lda/corpus_lda.dict\""
   ]
  },
  {
   "cell_type": "code",
   "execution_count": 48,
   "metadata": {},
   "outputs": [
    {
     "name": "stdout",
     "output_type": "stream",
     "text": [
      "Badwords List Size: 376\n",
      "Creating the corpus...\n",
      "Adding Roastme Dataset...\n",
      "RoastMe #Docs: 5000\n",
      "Adding Neutral and Positive Comments Dataset...\n",
      "Neutral&Positive #Docs: 4629\n",
      "Saving Corpus and Dictionary...\n",
      "Number of unique tokens: 4872\n",
      "Number of documents: 9629\n"
     ]
    }
   ],
   "source": [
    "#Create bad words list\n",
    "bad_words = []\n",
    "with open('badwords','r') as bad_words_file:\n",
    "    for word in bad_words_file:\n",
    "        word = word.replace('\\n','').decode('unicode_escape').encode('ascii','ignore')\n",
    "        if word != '':\n",
    "            bad_words.append(word)\n",
    "print(\"Badwords List Size: \"+str(len(bad_words)))\n",
    "        \n",
    "#Remove keywords in cyberbullying from stopwords list\n",
    "keywords = [\"you\", \"your\", \"he\", \"she\", \"it\"]\n",
    "stopword_list = [stopword for stopword in stopwords.words('english') if stopword not in keywords]\n",
    "puncts = \".,:;?!()[]{}~+-\\\"\\'#$%&\\/\"\n",
    "digits = \"0123456789\"\n",
    "\n",
    "#Create the corpus\n",
    "print(\"Creating the corpus...\")\n",
    "mcorpus = []\n",
    "\n",
    "print(\"Adding Roastme Dataset...\")\n",
    "max_num_docs = 5000\n",
    "count = 0\n",
    "for name in os.listdir(roastme_dataset_path):\n",
    "    if count >= max_num_docs:\n",
    "        break\n",
    "    if name.endswith('.json'):\n",
    "        with open(roastme_dataset_path+'/'+name) as f:\n",
    "            op_json = json.loads(f.read())\n",
    "            try:\n",
    "                for child in op_json[1]['data']['children']:    \n",
    "                    #Extrae el comentario\n",
    "                    comment_text = child['data']['body'].encode('ascii', 'ignore').replace('\\n', ' ')\n",
    "                    #Elimina los links\n",
    "                    comment_text = re.sub(r'\\w+:\\/{2}[\\d\\w-]+(\\.[\\d\\w-]+)*(?:(?:\\/[^\\s/]*))*', '', comment_text)\n",
    "\n",
    "                    for sym in puncts:\n",
    "                        comment_text = comment_text.replace(sym,\" \")\n",
    "                    for num in digits:\n",
    "                        comment_text = comment_text.replace(num,\" \")\n",
    "\n",
    "                    tokens_comment = [word for word in comment_text.lower().split() if word not in stopword_list]\n",
    "                    mcorpus.append(tokens_comment)\n",
    "                    \n",
    "                    count += 1\n",
    "                    if count >= max_num_docs:\n",
    "                        break\n",
    "                        \n",
    "                    try:\n",
    "                        for child in child['data']['replies']['data']['children']:\n",
    "                            comment_text = child['data']['body'].encode('ascii', 'ignore').replace('\\n', ' ')\n",
    "                            comment_text = re.sub(r'\\w+:\\/{2}[\\d\\w-]+(\\.[\\d\\w-]+)*(?:(?:\\/[^\\s/]*))*', '', comment_text)\n",
    "                    \n",
    "                            for sym in puncts:\n",
    "                                comment_text = comment_text.replace(sym,\" \")\n",
    "                            for num in digits:\n",
    "                                comment_text = comment_text.replace(num,\" \")\n",
    "                    \n",
    "                            tokens_comment = [word for word in comment_text.lower().split() if word not in stopword_list]\n",
    "                            mcorpus.append(tokens_comment)\n",
    "                            \n",
    "                            count += 1\n",
    "                            if count >= max_num_docs:\n",
    "                                break\n",
    "                                \n",
    "                    except Exception:\n",
    "                        pass\n",
    "            except Exception:\n",
    "                #pint('Exception at file:'+str(count)+' has no children')\n",
    "                pass\n",
    "print(\"RoastMe #Docs: \"+str(count))\n",
    "\n",
    "print(\"Adding Neutral and Positive Comments Dataset...\")\n",
    "max_num_docs = 5000\n",
    "count = 0\n",
    "for name in os.listdir(balance_dataset_path):\n",
    "    if count >= max_num_docs:\n",
    "        break\n",
    "    if name.endswith('.json'):\n",
    "        with open(balance_dataset_path+'/'+name) as f:\n",
    "            op_json = json.loads(f.read())\n",
    "            try:\n",
    "                for child in op_json[1]['data']['children']:    \n",
    "                    #Extrae el comentario\n",
    "                    comment_text = child['data']['body'].encode('ascii', 'ignore').replace('\\n', ' ')\n",
    "                    #Elimina los links\n",
    "                    comment_text = re.sub(r'\\w+:\\/{2}[\\d\\w-]+(\\.[\\d\\w-]+)*(?:(?:\\/[^\\s/]*))*', '', comment_text)\n",
    "\n",
    "                    for sym in puncts:\n",
    "                        comment_text = comment_text.replace(sym,\" \")\n",
    "                    for num in digits:\n",
    "                        comment_text = comment_text.replace(num,\" \")\n",
    "\n",
    "                    tokens_comment = [word for word in comment_text.lower().split() if word not in stopwords.words('english')]\n",
    "                    mcorpus.append(tokens_comment)\n",
    "                    \n",
    "                    count += 1\n",
    "                    if count >= max_num_docs:\n",
    "                        break\n",
    "                    \n",
    "                    try:\n",
    "                        for child in child['data']['replies']['data']['children']:\n",
    "                            comment_text = child['data']['body'].encode('ascii', 'ignore').replace('\\n', ' ')\n",
    "                            comment_text = re.sub(r'\\w+:\\/{2}[\\d\\w-]+(\\.[\\d\\w-]+)*(?:(?:\\/[^\\s/]*))*', '', comment_text)\n",
    "                    \n",
    "                            for sym in puncts:\n",
    "                                comment_text = comment_text.replace(sym,\" \")\n",
    "                            for num in digits:\n",
    "                                comment_text = comment_text.replace(num,\" \")\n",
    "                    \n",
    "                            tokens_comment = [word for word in comment_text.lower().split() if word not in stopwords.words('english')]\n",
    "                            mcorpus.append(tokens_comment)\n",
    "                            \n",
    "                            count += 1\n",
    "                            if count >= max_num_docs:\n",
    "                                break\n",
    "                    except Exception:\n",
    "                        pass\n",
    "            except Exception:\n",
    "                #pint('Exception at file:'+str(count)+' has no children')\n",
    "                pass\n",
    "print(\"Neutral&Positive #Docs: \"+str(count))\n",
    "\n",
    "#Remove words that appear only once\n",
    "frequency = defaultdict(int)\n",
    "for doc in mcorpus:\n",
    "    for token in doc:\n",
    "        frequency[token] += 1\n",
    "docs = [[token for token in doc if frequency[token] > 1] for doc in mcorpus]\n",
    "\n",
    "# Lemmatize all words in documents.\n",
    "lemmatizer = WordNetLemmatizer()\n",
    "docs = [[lemmatizer.lemmatize(token) for token in doc] for doc in docs]\n",
    "\n",
    "# Add bigrams and trigrams to docs (only ones that appear 20 times or more).\n",
    "bigram = Phrases(docs, min_count=20)\n",
    "for idx in range(len(docs)):\n",
    "    for token in bigram[docs[idx]]:\n",
    "        if '_' in token:\n",
    "            docs[idx].append(token)\n",
    "\n",
    "#Create and save dictionary\n",
    "dictionary = corpora.Dictionary(docs)\n",
    "#dictionary.filter_extremes(no_below=20, no_above=0.5)\n",
    "\n",
    "#Convert documents to vectors\n",
    "corpus = [dictionary.doc2bow(doc) for doc in docs]\n",
    "\n",
    "#Increasing weight of bad words:\n",
    "bad_words_ids = [word_id for word_id, word in dictionary.iteritems() if word in bad_words]\n",
    "ngrams_ids = [word_id for word_id, word in dictionary.iteritems() if \"_\" in word]\n",
    "\n",
    "for doc_idx in range(len(corpus)):\n",
    "    word_id_list = []\n",
    "    freq_list = []\n",
    "\n",
    "    for word_id, freq in corpus[doc_idx]:\n",
    "        word_id_list.append(word_id)\n",
    "        #if (word_id in bad_words_ids and randint(0,9) > 5):\n",
    "        if (word_id in bad_words_ids):\n",
    "            freq_list.append(freq*3)\n",
    "        else:\n",
    "            freq_list.append(freq)\n",
    "    \n",
    "    new_doc = zip(word_id_list,freq_list)\n",
    "    corpus[doc_idx] = new_doc\n",
    "\n",
    "print(\"Saving Corpus and Dictionary...\")\n",
    "dictionary.save('tmp/cyberbullying_dictionary.dict') #Save the dictionary\n",
    "corpora.BleiCorpus.serialize('tmp/cyberbullying_corpus.lda-c', corpus) #Save the corpus\n",
    "\n",
    "print('Number of unique tokens: %d' % len(dictionary))\n",
    "print('Number of documents: %d' % len(corpus))\n"
   ]
  },
  {
   "cell_type": "code",
   "execution_count": 47,
   "metadata": {
    "collapsed": true
   },
   "outputs": [
    {
     "name": "stdout",
     "output_type": "stream",
     "text": [
      "Creating dictionary...\n",
      "CPU times: user 16 ms, sys: 0 ns, total: 16 ms\n",
      "Wall time: 12.7 ms\n",
      "Creating corpus...\n",
      "CPU times: user 120 ms, sys: 4 ms, total: 124 ms\n",
      "Wall time: 118 ms\n"
     ]
    }
   ],
   "source": [
    "#Load the dictionary and corpus\n",
    "if (os.path.exists('tmp/cyberbullying_dictionary.dict') and os.path.exists('tmp/cyberbullying_corpus.lda-c')):\n",
    "    print('Creating dictionary...')\n",
    "    %time dictionary = corpora.Dictionary.load('tmp/cyberbullying_dictionary.dict')\n",
    "    print('Creating corpus...')\n",
    "    %time corpus = corpora.BleiCorpus('tmp/cyberbullying_corpus.lda-c')\n",
    "else:\n",
    "    print(\"Create the dictionary and corpus first\")"
   ]
  },
  {
   "cell_type": "code",
   "execution_count": 46,
   "metadata": {},
   "outputs": [
    {
     "name": "stdout",
     "output_type": "stream",
     "text": [
      "CPU times: user 33 s, sys: 16 ms, total: 33 s\n",
      "Wall time: 33 s\n"
     ]
    }
   ],
   "source": [
    "#Initialize a model\n",
    "#print('Creating Tfidf model...')\n",
    "#%time tfidf = models.TfidfModel(corpus)\n",
    "#corpus_tfidf = tfidf[corpus]\n",
    "\n",
    "#Create a LDA Model and save it\n",
    "%time lda_2 = ldamodel.LdaModel(corpus, num_topics=2, id2word=dictionary)\n",
    "#%time lda_3 = ldamodel.LdaModel(corpus, num_topics=3, id2word=dictionary)\n",
    "#%time lda_4 = ldamodel.LdaModel(corpus, num_topics=4, id2word=dictionary)\n",
    "#%time lda_5 = ldamodel.LdaModel(corpus, num_topics=5, id2word=dictionary)\n",
    "lda_2.save('tmp/cyberbullying_ldaModel.lda')"
   ]
  },
  {
   "cell_type": "code",
   "execution_count": null,
   "metadata": {
    "collapsed": true
   },
   "outputs": [],
   "source": [
    "#Load LDA Model\n",
    "lda = models.LdaModel.load('tmp/cyberbullying_ldaModel.lda')"
   ]
  },
  {
   "cell_type": "code",
   "execution_count": 47,
   "metadata": {},
   "outputs": [
    {
     "data": {
      "text/plain": [
       "[(0,\n",
       "  u'0.020*\"you\" + 0.012*\"your\" + 0.010*\"friend\" + 0.010*\"make\" + 0.008*\"people\" + 0.008*\"love\" + 0.007*\"really\" + 0.007*\"r\" + 0.007*\"great\" + 0.007*\"know\" + 0.007*\"get\" + 0.007*\"like\" + 0.006*\"thank\" + 0.006*\"shit\" + 0.006*\"want\" + 0.006*\"think\" + 0.006*\"sub\" + 0.005*\"day\" + 0.005*\"life\" + 0.005*\"feel\" + 0.005*\"see\" + 0.005*\"say\" + 0.005*\"u\" + 0.005*\"thing\" + 0.005*\"hope\" + 0.004*\"good\" + 0.004*\"could\" + 0.004*\"go\" + 0.004*\"still\" + 0.004*\"well\" + 0.004*\"also\" + 0.004*\"always\" + 0.004*\"nice\" + 0.004*\"happy\" + 0.004*\"much\" + 0.004*\"fuck\" + 0.004*\"time\" + 0.004*\"better\" + 0.004*\"fucking\" + 0.004*\"post\" + 0.004*\"best\" + 0.003*\"someone\" + 0.003*\"even\" + 0.003*\"something\" + 0.003*\"look\" + 0.003*\"need\" + 0.003*\"lot\" + 0.003*\"work\" + 0.003*\"comic\" + 0.003*\"take\" + 0.003*\"give\" + 0.003*\"way\" + 0.003*\"actually\" + 0.003*\"got\" + 0.003*\"one\" + 0.003*\"dad\" + 0.003*\"bad\" + 0.003*\"though\" + 0.003*\"help\" + 0.003*\"find\" + 0.003*\"wholesome\" + 0.003*\"mean\" + 0.003*\"would\" + 0.003*\"never\" + 0.002*\"wonderful\" + 0.002*\"subreddit\" + 0.002*\"every\" + 0.002*\"face\" + 0.002*\"mom\" + 0.002*\"cute\" + 0.002*\"it\" + 0.002*\"tell\" + 0.002*\"sure\" + 0.002*\"going\" + 0.002*\"picture\" + 0.002*\"removed\" + 0.002*\"long\" + 0.002*\"he\" + 0.002*\"please\" + 0.002*\"keep\" + 0.002*\"glad\" + 0.002*\"beautiful\" + 0.002*\"thought\" + 0.002*\"comment\" + 0.002*\"hard\" + 0.002*\"come\" + 0.002*\"guy\" + 0.002*\"back\" + 0.002*\"two\" + 0.002*\"little\" + 0.002*\"hair\" + 0.002*\"kid\" + 0.002*\"said\" + 0.002*\"right\" + 0.002*\"probably\" + 0.002*\"positive\" + 0.002*\"world\" + 0.002*\"stay\" + 0.002*\"cat\" + 0.002*\"part\"'),\n",
       " (1,\n",
       "  u'0.030*\"like\" + 0.018*\"look\" + 0.015*\"one\" + 0.014*\"you\" + 0.012*\"look_like\" + 0.011*\"good\" + 0.011*\"meme\" + 0.009*\"love\" + 0.008*\"guy\" + 0.008*\"thanks\" + 0.007*\"would\" + 0.007*\"wholesome\" + 0.006*\"get\" + 0.006*\"made\" + 0.006*\"day\" + 0.006*\"time\" + 0.006*\"year\" + 0.006*\"nice\" + 0.005*\"it\" + 0.004*\"happy\" + 0.004*\"your\" + 0.004*\"man\" + 0.004*\"op\" + 0.004*\"everyone\" + 0.004*\"right\" + 0.004*\"first\" + 0.004*\"way\" + 0.004*\"even\" + 0.004*\"go\" + 0.004*\"deleted\" + 0.003*\"face\" + 0.003*\"know\" + 0.003*\"school\" + 0.003*\"think\" + 0.003*\"got\" + 0.003*\"gt\" + 0.003*\"feel\" + 0.003*\"really\" + 0.003*\"place\" + 0.003*\"post\" + 0.003*\"okay\" + 0.003*\"back\" + 0.003*\"oh\" + 0.003*\"better\" + 0.003*\"thing\" + 0.003*\"going\" + 0.003*\"kind\" + 0.003*\"original\" + 0.003*\"awesome\" + 0.003*\"make\" + 0.003*\"pretty\" + 0.003*\"someone\" + 0.003*\"people\" + 0.003*\"dude\" + 0.002*\"comment\" + 0.002*\"seen\" + 0.002*\"little\" + 0.002*\"girl\" + 0.002*\"he\" + 0.002*\"never\" + 0.002*\"maybe\" + 0.002*\"much\" + 0.002*\"see\" + 0.002*\"thought\" + 0.002*\"hey\" + 0.002*\"already\" + 0.002*\"old\" + 0.002*\"great\" + 0.002*\"looking\" + 0.002*\"always\" + 0.002*\"job\" + 0.002*\"actually\" + 0.002*\"new\" + 0.002*\"wow\" + 0.002*\"person\" + 0.002*\"bitch\" + 0.002*\"smile\" + 0.002*\"high\" + 0.002*\"ever\" + 0.002*\"remember\" + 0.002*\"god\" + 0.002*\"amshower\" + 0.002*\"community\" + 0.002*\"want\" + 0.002*\"picture\" + 0.002*\"sexy\" + 0.002*\"joke\" + 0.002*\"need\" + 0.002*\"fuck\" + 0.002*\"u\" + 0.002*\"sharing\" + 0.002*\"next\" + 0.002*\"keep\" + 0.002*\"needed\" + 0.002*\"say\" + 0.002*\"check\" + 0.002*\"wholesome_meme\" + 0.002*\"dog\" + 0.002*\"ago\" + 0.002*\"sound\"')]"
      ]
     },
     "execution_count": 47,
     "metadata": {},
     "output_type": "execute_result"
    }
   ],
   "source": [
    "#Print Word Topic Distribution for 100 words\n",
    "lda_2.print_topics(2,100)\n",
    "#lda_3.print_topics(3,100)"
   ]
  },
  {
   "cell_type": "code",
   "execution_count": 38,
   "metadata": {
    "collapsed": true
   },
   "outputs": [
    {
     "name": "stdout",
     "output_type": "stream",
     "text": [
      "you\n",
      "year_old\n",
      "your\n",
      "fuck\n",
      "it\n",
      "love_child\n",
      "first_time\n",
      "he\n",
      "one\n",
      "get\n"
     ]
    }
   ],
   "source": [
    "#Get top 10 terms of topic 0\n",
    "for word_id, prob in lda.get_topic_terms(1,10):\n",
    "    print(dictionary[word_id])"
   ]
  },
  {
   "cell_type": "code",
   "execution_count": 44,
   "metadata": {},
   "outputs": [
    {
     "name": "stdout",
     "output_type": "stream",
     "text": [
      "\t Agressive \t\t Non-Agressive\n",
      "[(0, 0.08573602194025054), (1, 0.91426397805974935)]\n",
      "[(0, 0.4497260134803262), (1, 0.55027398651967385)]\n",
      "[(0, 0.80782673150485518), (1, 0.19217326849514479)]\n",
      "[(0, 0.48843112865252192), (1, 0.51156887134747808)]\n",
      "[(0, 0.85106364180749061), (1, 0.14893635819250942)]\n",
      "[(0, 0.61612410328736078), (1, 0.38387589671263922)]\n",
      "[(0, 0.8004721583407165), (1, 0.19952784165928347)]\n",
      "-----------\n"
     ]
    }
   ],
   "source": [
    "texts = [\"you look like an asshole sitting there in the middle of the room\",\n",
    "        \"you are a fucking slut\",\n",
    "         \"your penis makes me laugh\",\n",
    "         \"you look like shit\",\n",
    "         \"thanks for you help\",\n",
    "         \"you look great\",\n",
    "        \"that is a great work\"]\n",
    "\n",
    "\n",
    "tcorpus = [dictionary.doc2bow(doc.lower().split()) for doc in texts]\n",
    "print(\"\\t Agressive \\t\\t Non-Agressive\")\n",
    "for docBow in tcorpus:\n",
    "    print(lda_2[docBow]) \n",
    "print(\"-----------\")"
   ]
  },
  {
   "cell_type": "code",
   "execution_count": null,
   "metadata": {
    "collapsed": true
   },
   "outputs": [],
   "source": []
  }
 ],
 "metadata": {
  "kernelspec": {
   "display_name": "Python 2",
   "language": "python",
   "name": "python2"
  },
  "language_info": {
   "codemirror_mode": {
    "name": "ipython",
    "version": 2
   },
   "file_extension": ".py",
   "mimetype": "text/x-python",
   "name": "python",
   "nbconvert_exporter": "python",
   "pygments_lexer": "ipython2",
   "version": "2.7.13"
  }
 },
 "nbformat": 4,
 "nbformat_minor": 2
}
