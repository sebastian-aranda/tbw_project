{
 "cells": [
  {
   "cell_type": "markdown",
   "metadata": {},
   "source": [
    "<h1>Proyecto Tecnologías de Búsqueda en la Web</h1>\n",
    "<h3>Integrantes</h3>\n",
    "<ul><li>Sebastián Aranda</li><li>Felipe Santander</li></ul>"
   ]
  },
  {
   "cell_type": "markdown",
   "metadata": {},
   "source": [
    "<h2>Librerías</h2>"
   ]
  },
  {
   "cell_type": "code",
   "execution_count": 36,
   "metadata": {},
   "outputs": [],
   "source": [
    "import gensim\n",
    "from gensim import corpora\n",
    "from gensim.corpora import Dictionary, bleicorpus\n",
    "from gensim.models import ldamodel\n",
    "from gensim.models import Phrases\n",
    "\n",
    "from collections import defaultdict\n",
    "\n",
    "import nltk\n",
    "from nltk.corpus import stopwords\n",
    "from nltk.stem.wordnet import WordNetLemmatizer\n",
    "from nltk.classify import PositiveNaiveBayesClassifier\n",
    "\n",
    "import matplotlib.pyplot as plt\n",
    "import numpy as np\n",
    "\n",
    "from random import randint\n",
    "from __future__ import division\n",
    "\n",
    "#import pyLDAvis\n",
    "import re\n",
    "import os\n",
    "import json\n",
    "import operator"
   ]
  },
  {
   "cell_type": "markdown",
   "metadata": {},
   "source": [
    "<h2>Creación del Corpus</h2>"
   ]
  },
  {
   "cell_type": "markdown",
   "metadata": {},
   "source": [
    "<h6>Rutas a Datasets</h6>"
   ]
  },
  {
   "cell_type": "code",
   "execution_count": 37,
   "metadata": {
    "collapsed": true
   },
   "outputs": [],
   "source": [
    "roastme_dataset_path = \"Corpus_builder_and_pre/Dataset/Bullying\"\n",
    "positive_dataset_path = \"Corpus_builder_and_pre/Dataset/NoBullying\"\n",
    "#balance_dataset_path = \"Corpus_builder_and_pre/Neutros&Positivos/\""
   ]
  },
  {
   "cell_type": "markdown",
   "metadata": {},
   "source": [
    "<h6>Construcción del Corpus</h6>"
   ]
  },
  {
   "cell_type": "code",
   "execution_count": 38,
   "metadata": {},
   "outputs": [
    {
     "name": "stdout",
     "output_type": "stream",
     "text": [
      "Tamaño del dataset completo:\n",
      "97718\n"
     ]
    }
   ],
   "source": [
    "#Strange symbols\n",
    "puncts = \".,:;?!()[]{}~+-\\\"\\'#$%&\\/*^|\"\n",
    "digits = \"0123456789\"\n",
    "\n",
    "#Create bad words list\n",
    "bad_words = []\n",
    "with open('badwords_v2.txt','r') as bad_words_file:\n",
    "    for word in bad_words_file:\n",
    "        word = word.split('-')[0].strip()\n",
    "        word = word.replace('\\n','').decode('unicode_escape').encode('ascii','ignore')\n",
    "        if word != '':\n",
    "            bad_words.append(word)\n",
    "\n",
    "#Create the corpus\n",
    "corpus = list()\n",
    "for name in os.listdir(positive_dataset_path):\n",
    "    if name.endswith('.json'):\n",
    "        with open(positive_dataset_path+'/'+name) as f:\n",
    "            op_json = json.loads(f.read())\n",
    "            try:\n",
    "                for child in op_json[1]['data']['children']:    \n",
    "                    #Extract the comment\n",
    "                    comment_text = child['data']['body'].encode('ascii', 'ignore').replace('\\n', ' ')\n",
    "                    #Delete links\n",
    "                    comment_text = re.sub(r'\\w+:\\/{2}[\\d\\w-]+(\\.[\\d\\w-]+)*(?:(?:\\/[^\\s/]*))*', '', comment_text)\n",
    "                    \n",
    "                    for sym in puncts:\n",
    "                        comment_text = comment_text.replace(sym,\" \")\n",
    "                    for num in digits:\n",
    "                        comment_text = comment_text.replace(num,\" \")\n",
    "                    \n",
    "                    tokens_comment = [word for word in comment_text.lower().split()]        \n",
    "                    corpus.append(tokens_comment)\n",
    "                        \n",
    "                    try:\n",
    "                        for child in child['data']['replies']['data']['children']:\n",
    "                            comment_text = child['data']['body'].encode('ascii', 'ignore').replace('\\n', ' ')\n",
    "                            comment_text = re.sub(r'\\w+:\\/{2}[\\d\\w-]+(\\.[\\d\\w-]+)*(?:(?:\\/[^\\s/]*))*', '', comment_text)\n",
    "                    \n",
    "                            for sym in puncts:\n",
    "                                comment_text = comment_text.replace(sym,\" \")\n",
    "                            for num in digits:\n",
    "                                comment_text = comment_text.replace(num,\" \")\n",
    "                        \n",
    "                            tokens_comment = [word for word in comment_text.lower().split()]\n",
    "                            corpus.append(tokens_comment)\n",
    "                                \n",
    "                    except Exception as e:\n",
    "                        pass\n",
    "                    \n",
    "            except Exception as e:\n",
    "                pass\n",
    "\n",
    "positive_dataset_size = len(corpus)\n",
    "\n",
    "for name in os.listdir(roastme_dataset_path):\n",
    "    if name.endswith('.json'):\n",
    "        with open(roastme_dataset_path+'/'+name) as f:\n",
    "            op_json = json.loads(f.read())\n",
    "            try:\n",
    "                for child in op_json[1]['data']['children']:    \n",
    "                    \n",
    "                    #Constraint for dataset size equality\n",
    "                    if (len(corpus) >= 2*positive_dataset_size):\n",
    "                        break\n",
    "                    \n",
    "                    comment_text = child['data']['body'].encode('ascii', 'ignore').replace('\\n', ' ')\n",
    "                    comment_text = re.sub(r'\\w+:\\/{2}[\\d\\w-]+(\\.[\\d\\w-]+)*(?:(?:\\/[^\\s/]*))*', '', comment_text)\n",
    "                    \n",
    "                    for sym in puncts:\n",
    "                        comment_text = comment_text.replace(sym,\" \")\n",
    "                    for num in digits:\n",
    "                        comment_text = comment_text.replace(num,\" \")\n",
    "                    \n",
    "                    tokens_comment = [word for word in comment_text.lower().split()]    \n",
    "                    corpus.append(tokens_comment)\n",
    "                        \n",
    "                    try:\n",
    "                        for child in child['data']['replies']['data']['children']:\n",
    "                            \n",
    "                            if (len(corpus) >= 2*positive_dataset_size):\n",
    "                                break\n",
    "                            \n",
    "                            comment_text = child['data']['body'].encode('ascii', 'ignore').replace('\\n', ' ')\n",
    "                            comment_text = re.sub(r'\\w+:\\/{2}[\\d\\w-]+(\\.[\\d\\w-]+)*(?:(?:\\/[^\\s/]*))*', '', comment_text)\n",
    "                    \n",
    "                            for sym in puncts:\n",
    "                                comment_text = comment_text.replace(sym,\" \")\n",
    "                            for num in digits:\n",
    "                                comment_text = comment_text.replace(num,\" \")\n",
    "                        \n",
    "                            tokens_comment = [word for word in comment_text.lower().split()]    \n",
    "                            corpus.append(tokens_comment)\n",
    "                                \n",
    "                    except Exception as e:\n",
    "                        #print(e)\n",
    "                        pass\n",
    "                    \n",
    "            except Exception as e:\n",
    "                #print(e)\n",
    "                pass\n",
    "\n",
    "print(\"Tamaño del dataset completo:\")\n",
    "print(len(corpus))\n",
    "#TODO: guardar corpus de texto con pickle"
   ]
  },
  {
   "cell_type": "code",
   "execution_count": 5,
   "metadata": {},
   "outputs": [
    {
     "name": "stdout",
     "output_type": "stream",
     "text": [
      "48859\n"
     ]
    }
   ],
   "source": [
    "print(positive_dataset_size)"
   ]
  },
  {
   "cell_type": "markdown",
   "metadata": {},
   "source": [
    "<h6>Procesamiento del Corpus</h6>"
   ]
  },
  {
   "cell_type": "code",
   "execution_count": 39,
   "metadata": {},
   "outputs": [],
   "source": [
    "#Remove lone letters\n",
    "corpus = [[word for word in doc if len(word)>1] for doc in corpus]\n",
    "\n",
    "#Remove stopwords\n",
    "corpus = [[word for word in doc if word not in stopwords.words('english')] for doc in corpus]\n",
    "\n",
    "# Lemmatize all words in documents.\n",
    "lemmatizer = WordNetLemmatizer()\n",
    "corpus = [[lemmatizer.lemmatize(word) for word in doc] for doc in corpus]\n",
    "\n",
    "#For Sentiment Analysis\n",
    "comments_pro = [\" \".join(doc) for doc in corpus]\n",
    "    \n",
    "#Get Trigrams\n",
    "#bigram = Phrases(corpus)\n",
    "#trigram = Phrases(bigram[corpus])\n",
    "#for idx in range(len(corpus)):\n",
    "#    for token in trigram[corpus[idx]]:\n",
    "#            if '_' in token:\n",
    "#                corpus[idx].append(token)"
   ]
  },
  {
   "cell_type": "markdown",
   "metadata": {},
   "source": [
    "<h6>Transformación del Corpus a espacio de vectores</h6>"
   ]
  },
  {
   "cell_type": "code",
   "execution_count": 40,
   "metadata": {
    "collapsed": true
   },
   "outputs": [],
   "source": [
    "#Create dictionary\n",
    "dictionary = corpora.Dictionary(corpus)\n",
    "#dictionary.filter_extremes(no_below=len(dictionary)*0.001, no_above=0.75)\n",
    "dictionary.filter_extremes()\n",
    "\n",
    "#Convert documents to vectors\n",
    "corpus = [dictionary.doc2bow(doc) for doc in corpus]\n",
    "\n",
    "#Save corpus and dictionary\n",
    "corpora.BleiCorpus.serialize('tmp/cyberbullying_corpus.lda-c', corpus)\n",
    "dictionary.save('tmp/cyberbullying_dictionary.dict')"
   ]
  },
  {
   "cell_type": "code",
   "execution_count": 26,
   "metadata": {},
   "outputs": [
    {
     "name": "stdout",
     "output_type": "stream",
     "text": [
      "Creating dictionary...\n",
      "Creating corpus...\n",
      "Corpus Size: 97718\n"
     ]
    }
   ],
   "source": [
    "#Load the dictionary and corpus\n",
    "if (os.path.exists('tmp/cyberbullying_dictionary.dict') and os.path.exists('tmp/cyberbullying_corpus.lda-c')):\n",
    "    print('Creating dictionary...')\n",
    "    dictionary = corpora.Dictionary.load('tmp/cyberbullying_dictionary.dict')\n",
    "    print('Creating corpus...')\n",
    "    print('Corpus Size: '+str(len(corpus)))\n",
    "    corpus = corpora.BleiCorpus('tmp/cyberbullying_corpus.lda-c')\n",
    "else:\n",
    "    print(\"Create the dictionary and corpus first\")"
   ]
  },
  {
   "cell_type": "markdown",
   "metadata": {},
   "source": [
    "<h1>Características para Clasificación</h1>\n",
    "<ul>\n",
    "<li>Porcentaje de pertenencia al tópico generado de LDA en Roastme Dataset</li>\n",
    "<li>Densidad de Badwords</li>\n",
    "<li>Polaridad del post utilizando Sentiment Analysis</li>\n",
    "</ul>"
   ]
  },
  {
   "cell_type": "markdown",
   "metadata": {},
   "source": [
    "<h3>LDA Features</h3>"
   ]
  },
  {
   "cell_type": "markdown",
   "metadata": {},
   "source": [
    "<h4>Modelo</h4>"
   ]
  },
  {
   "cell_type": "code",
   "execution_count": 41,
   "metadata": {
    "scrolled": true
   },
   "outputs": [
    {
     "name": "stdout",
     "output_type": "stream",
     "text": [
      "CPU times: user 2min 19s, sys: 616 ms, total: 2min 20s\n",
      "Wall time: 2min 20s\n"
     ]
    },
    {
     "data": {
      "text/plain": [
       "[(0,\n",
       "  u'0.015*\"like\" + 0.012*\"look\" + 0.011*\"roast\" + 0.009*\"fuck\" + 0.008*\"post\" + 0.006*\"one\" + 0.006*\"dick\" + 0.006*\"guy\" + 0.006*\"picture\" + 0.006*\"know\" + 0.006*\"please\" + 0.005*\"would\" + 0.005*\"sure\" + 0.005*\"get\" + 0.004*\"forehead\" + 0.004*\"use\" + 0.004*\"let\" + 0.004*\"never\" + 0.004*\"nice\" + 0.004*\"see\" + 0.004*\"fat\" + 0.004*\"sex\" + 0.004*\"subreddit\" + 0.004*\"u\" + 0.003*\"got\" + 0.003*\"gay\" + 0.003*\"love\" + 0.003*\"comment\" + 0.003*\"as\" + 0.003*\"report\" + 0.003*\"want\" + 0.003*\"another\" + 0.003*\"deleted\" + 0.003*\"say\" + 0.003*\"bitch\" + 0.003*\"rule\" + 0.003*\"user\" + 0.003*\"probably\" + 0.003*\"moderator\" + 0.003*\"dude\"'),\n",
       " (1,\n",
       "  u'0.045*\"like\" + 0.043*\"look\" + 0.013*\"face\" + 0.009*\"one\" + 0.009*\"get\" + 0.008*\"hair\" + 0.007*\"guy\" + 0.007*\"make\" + 0.006*\"would\" + 0.006*\"girl\" + 0.006*\"kid\" + 0.006*\"think\" + 0.005*\"even\" + 0.005*\"time\" + 0.005*\"school\" + 0.005*\"tell\" + 0.005*\"go\" + 0.005*\"year\" + 0.005*\"got\" + 0.004*\"thing\" + 0.004*\"head\" + 0.004*\"back\" + 0.004*\"people\" + 0.004*\"know\" + 0.004*\"already\" + 0.004*\"say\" + 0.004*\"going\" + 0.004*\"life\" + 0.004*\"right\" + 0.004*\"bet\" + 0.004*\"good\" + 0.004*\"shit\" + 0.004*\"still\" + 0.004*\"see\" + 0.004*\"could\" + 0.004*\"take\" + 0.004*\"need\" + 0.003*\"eye\" + 0.003*\"mom\" + 0.003*\"friend\"')]"
      ]
     },
     "execution_count": 41,
     "metadata": {},
     "output_type": "execute_result"
    }
   ],
   "source": [
    "#Initialize a model\n",
    "#print('Creating Tfidf model...')\n",
    "#tfidf = gensim.models.TfidfModel(corpus)\n",
    "#corpus_tfidf = tfidf[corpus]\n",
    "#lda_model_tfidf = ldamodel.LdaModel(corpus_tfidf, num_topics=2, id2word=dictionary)\n",
    "\n",
    "#LDA-2\n",
    "%time lda_model = ldamodel.LdaModel(corpus, num_topics=2, id2word=dictionary)\n",
    "lda_model.save('tmp/cyberbullying_ldaModel.lda')\n",
    "lda_model.print_topics(2,40)"
   ]
  },
  {
   "cell_type": "code",
   "execution_count": null,
   "metadata": {
    "collapsed": true
   },
   "outputs": [],
   "source": [
    "#LDA-3\n",
    "%time lda_model = ldamodel.LdaModel(corpus, num_topics=3, id2word=dictionary)\n",
    "lda_model.save('tmp/cyberbullying_ldaModel.lda')\n",
    "lda_model.print_topics(3,40)"
   ]
  },
  {
   "cell_type": "code",
   "execution_count": null,
   "metadata": {
    "collapsed": true
   },
   "outputs": [],
   "source": [
    "#LDA-5\n",
    "%time lda_model = ldamodel.LdaModel(corpus, num_topics=5, id2word=dictionary)\n",
    "lda_model.save('tmp/cyberbullying_ldaModel.lda')\n",
    "lda_model.print_topics(5,40)"
   ]
  },
  {
   "cell_type": "code",
   "execution_count": null,
   "metadata": {
    "collapsed": true
   },
   "outputs": [],
   "source": [
    "#LDA-10\n",
    "%time lda_model = ldamodel.LdaModel(corpus, num_topics=10, id2word=dictionary)\n",
    "lda_model.save('tmp/cyberbullying_ldaModel.lda')\n",
    "lda_model.print_topics(10,40)"
   ]
  },
  {
   "cell_type": "markdown",
   "metadata": {},
   "source": [
    "<h4>Creación de características</h4>"
   ]
  },
  {
   "cell_type": "code",
   "execution_count": 42,
   "metadata": {
    "collapsed": true
   },
   "outputs": [],
   "source": [
    "id_mostAgressiveTopic = 0; \n",
    "\n",
    "lda_features = []\n",
    "for docbow in corpus:\n",
    "    lda_features.append(lda_model[docbow][id_mostAgressiveTopic][1])"
   ]
  },
  {
   "cell_type": "markdown",
   "metadata": {},
   "source": [
    "<h3>Bad Words Features</h3>"
   ]
  },
  {
   "cell_type": "code",
   "execution_count": 43,
   "metadata": {
    "collapsed": true
   },
   "outputs": [],
   "source": [
    "bad_words_ids = [word_id for word_id, word in dictionary.iteritems() if word in bad_words]\n",
    "bad_words_features = []\n",
    "\n",
    "for docbow in corpus:\n",
    "        if (len(docbow) > 0):\n",
    "            bad_words_features.append(sum([freq for word_id,freq in docbow if word_id in bad_words_ids])/len(docbow))\n",
    "        else:\n",
    "            bad_words_features.append(0)"
   ]
  },
  {
   "cell_type": "markdown",
   "metadata": {},
   "source": [
    "<h3>Sentiment Analysis Features</h3>"
   ]
  },
  {
   "cell_type": "code",
   "execution_count": 46,
   "metadata": {},
   "outputs": [],
   "source": [
    "positive_dataset_size = int(len(corpus)/2)\n",
    "positive_comments = [comments_pro[i] for i in range(positive_dataset_size)]\n",
    "negative_comments = [comments_pro[i] for i in range(positive_dataset_size,len(corpus))]\n",
    "\n",
    "def features(list_of_comments):\n",
    "    words = list_of_comments.lower().split()\n",
    "    return dict(('contains(%s)' % w, True) for w in words)\n",
    "\n",
    "positive_featuresets = list(map(features, negative_comments)) + list(map(features, bad_words))\n",
    "#positive_featuresets = list(map(features, bad_words))\n",
    "unlabeled_featuresets = list(map(features, positive_comments))\n",
    "classifier = PositiveNaiveBayesClassifier.train(positive_featuresets, unlabeled_featuresets)\n",
    "\n",
    "sentiment_features = []\n",
    "for doc in comments_pro:\n",
    "    sentiment_features.append(classifier.classify(features(doc)))"
   ]
  },
  {
   "cell_type": "code",
   "execution_count": 20,
   "metadata": {
    "collapsed": true
   },
   "outputs": [
    {
     "name": "stdout",
     "output_type": "stream",
     "text": [
      "True\n",
      "False\n",
      "True\n",
      "True\n",
      "True\n",
      "True\n",
      "True\n",
      "True\n",
      "False\n"
     ]
    }
   ],
   "source": [
    "print(str(classifier.classify(features('You are nice'))) + '\\n' +\n",
    "      str(classifier.classify(features('you are a scumbag mf'))) + '\\n' +\n",
    "      str(classifier.classify(features('You are beautiful'))) + '\\n' +\n",
    "      str(classifier.classify(features('How much did your lip injections cost'))) + '\\n' +\n",
    "      str(classifier.classify(features('You re what every girl wants a Gay Asian best friend'))) + '\\n' +\n",
    "      str(classifier.classify(features('sloths are the most dumb people'))) + '\\n' +\n",
    "      str(classifier.classify(features('sloths are the smartest people'))) + '\\n' +\n",
    "      str(classifier.classify(features('I think you did a great job'))) + '\\n' +\n",
    "      str(classifier.classify(features('You look like a twink KennyS'))))"
   ]
  },
  {
   "cell_type": "markdown",
   "metadata": {},
   "source": [
    "<h1>Validación Cruzada</h1>"
   ]
  },
  {
   "cell_type": "markdown",
   "metadata": {},
   "source": [
    "<h3>Etiquetas</h3>\n",
    "<p>Asignar etiqueta segun corpus</p>"
   ]
  },
  {
   "cell_type": "code",
   "execution_count": 50,
   "metadata": {},
   "outputs": [
    {
     "name": "stdout",
     "output_type": "stream",
     "text": [
      "97718\n"
     ]
    }
   ],
   "source": [
    "positive_dataset_size = int(len(corpus)/2)\n",
    "y1 = [0 for label in range(positive_dataset_size)]\n",
    "y2 = [1 for label in range(positive_dataset_size,len(corpus))]\n",
    "y = y1 + y2\n",
    "print(len(y))"
   ]
  },
  {
   "cell_type": "code",
   "execution_count": 48,
   "metadata": {
    "collapsed": true
   },
   "outputs": [
    {
     "name": "stdout",
     "output_type": "stream",
     "text": [
      "[(0.1949627293272008, 0.0, False), (0.56525745365747149, 0.0, False), (0.18367581890568294, 0.0, False), (0.71839940618544307, 0.0, True), (0.71475997900063282, 0.0, False), (0.91919774337185922, 0.0, True), (0.34296697390580566, 0.0, False), (0.31237607061718814, 0.0, True), (0.075050897449814649, 0.0, False), (0.093071140783016454, 0.0, False), (0.1809353123836118, 0.0, False), (0.11450361790066944, 0.0, False), (0.26388367993504358, 0.0, True), (0.74604599422248308, 0.0, False), (0.50429982075824176, 0.0, False), (0.33084145789469566, 0.0, True), (0.10627031099263358, 0.0, True), (0.31519910816181296, 0.0, True), (0.25177364059019058, 0.0, False), (0.2753633044403182, 0.0, True), (0.28189611731340003, 0.0, True), (0.38550967084392851, 0.0, True), (0.19330545280830252, 0.0, True), (0.48713910612029193, 0.0, True), (0.049041359249594393, 0.0, True), (0.74738091277917995, 0.0, False), (0.062036323371133802, 0.0, False), (0.36792052215187038, 0.0, False), (0.17685670848279889, 0.0, False), (0.5, 0, False), (0.5, 0, True), (0.74941325008454396, 0.0, False), (0.064462696117404669, 0.029411764705882353, True), (0.13232975095178673, 0.0, True), (0.5, 0, True), (0.74673235523610171, 0.0, False), (0.27916876035662574, 0.0, True), (0.67935185289113897, 0.0, False), (0.23268960517721737, 0.0, False), (0.071432264649036917, 0.0, False), (0.67627705571458629, 0.0, False), (0.64679117986174439, 0.0, False), (0.26284440923182933, 0.0, False), (0.74873179275067514, 0.0, False), (0.81380825870843776, 0.0, False), (0.8992024583965792, 0.0, False), (0.20139664859345868, 0.0, False), (0.49565810369054192, 0.0, True), (0.2524987232820689, 0.0, False), (0.16742620848278772, 0.0, False), (0.19939403018308388, 0.0, False), (0.55783914325547346, 0.0, False), (0.5, 0, True), (0.11111157231059141, 0.0, True), (0.94032963170687078, 0.0, True), (0.45613559793168074, 0.0, True), (0.56920621190808263, 0.0, False), (0.98951380163783831, 0.0, False), (0.3472512250583869, 0.0, False), (0.03936296255020811, 0.0, False), (0.2140889259956163, 0.0, True), (0.36885451008058462, 0.0, False), (0.79134103049315896, 0.0, False), (0.076927872381368514, 0.0, False), (0.8582846794970963, 0.0, False), (0.16548070060892567, 0.0, False), (0.03964134587310416, 0.0, False), (0.065289094990374691, 0.0, True), (0.12132752863921085, 0.0, False), (0.81590773233494651, 0.0, False), (0.4645647567110644, 0.0, False), (0.3975655396239019, 0.0, True), (0.8140666405898408, 0.0, True), (0.65398195753018462, 0.0, True), (0.85781289279817574, 0.0, False), (0.1356305743140237, 0.0, False), (0.88857803730616614, 0.0, True), (0.74999217278366903, 0.0, False), (0.73979156066856344, 0.0, False), (0.72108896004185297, 0.0, True), (0.1764053282086564, 0.0, True), (0.23076215195458574, 0.0, False), (0.92446481822139603, 0.0, True), (0.27924206340660063, 0.0, False), (0.98951381162211205, 0.0, False), (0.34888021023826443, 0.0, True), (0.60781826698258723, 0.0, False), (0.64215404009134525, 0.0, False), (0.10796455321997289, 0.0, False), (0.27676495779476579, 0.0, False), (0.74464593187034944, 0.0, True), (0.79016940464821661, 0.0, False), (0.45243536072966956, 0.0, False), (0.78663625049718, 0.0, True), (0.041789872144139172, 0.0, True), (0.81855338470506545, 0.0, False), (0.33930045311265772, 0.0, False), (0.85980833565931347, 0.0, True), (0.34451378311568015, 0.0, False), (0.25945197005283938, 0.0, True)]\n"
     ]
    }
   ],
   "source": [
    "X = zip(lda_features,bad_words_features, sentiment_features)\n",
    "print(X[:100])"
   ]
  },
  {
   "cell_type": "code",
   "execution_count": 51,
   "metadata": {},
   "outputs": [
    {
     "name": "stderr",
     "output_type": "stream",
     "text": [
      "/home/sebastian/anaconda3/lib/python2.7/site-packages/sklearn/cross_validation.py:44: DeprecationWarning: This module was deprecated in version 0.18 in favor of the model_selection module into which all the refactored classes and functions are moved. Also note that the interface of the new CV iterators are different from that of this module. This module will be removed in 0.20.\n",
      "  \"This module will be removed in 0.20.\", DeprecationWarning)\n"
     ]
    },
    {
     "name": "stdout",
     "output_type": "stream",
     "text": [
      "0.747423358625\n"
     ]
    }
   ],
   "source": [
    "from sklearn.cross_validation import train_test_split\n",
    "X = zip(lda_features,bad_words_features, sentiment_features)\n",
    "X_train, X_test, y_train, y_test = train_test_split(X, y, test_size = .7)\n",
    "\n",
    "from sklearn.neighbors import KNeighborsClassifier\n",
    "myClassifier = KNeighborsClassifier()\n",
    "myClassifier.fit(X_train, y_train)\n",
    "predictions = myClassifier.predict(X_test)\n",
    "\n",
    "from sklearn.metrics import accuracy_score\n",
    "print(accuracy_score(y_test, predictions))"
   ]
  },
  {
   "cell_type": "code",
   "execution_count": null,
   "metadata": {
    "collapsed": true
   },
   "outputs": [],
   "source": []
  }
 ],
 "metadata": {
  "kernelspec": {
   "display_name": "Python 2",
   "language": "python",
   "name": "python2"
  },
  "language_info": {
   "codemirror_mode": {
    "name": "ipython",
    "version": 2
   },
   "file_extension": ".py",
   "mimetype": "text/x-python",
   "name": "python",
   "nbconvert_exporter": "python",
   "pygments_lexer": "ipython2",
   "version": "2.7.13"
  }
 },
 "nbformat": 4,
 "nbformat_minor": 2
}
