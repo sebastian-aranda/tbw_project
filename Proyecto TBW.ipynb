{
 "cells": [
  {
   "cell_type": "markdown",
   "metadata": {},
   "source": [
    "<h1>Proyecto Tecnologías de Búsqueda en la Web</h1>\n",
    "<h3>Integrantes</h3>\n",
    "<ul><li>Sebastián Aranda</li><li>Felipe Santander</li></ul>"
   ]
  },
  {
   "cell_type": "markdown",
   "metadata": {},
   "source": [
    "<h2>Librerías</h2>"
   ]
  },
  {
   "cell_type": "code",
   "execution_count": 2,
   "metadata": {
    "collapsed": true
   },
   "outputs": [],
   "source": [
    "import gensim\n",
    "from gensim import corpora\n",
    "from gensim.corpora import Dictionary, bleicorpus\n",
    "from gensim.models import ldamodel\n",
    "from gensim.models import Phrases\n",
    "\n",
    "from collections import defaultdict\n",
    "\n",
    "import nltk\n",
    "from nltk.corpus import stopwords\n",
    "from nltk.stem.wordnet import WordNetLemmatizer\n",
    "\n",
    "import pyLDAvis\n",
    "import os"
   ]
  },
  {
   "cell_type": "markdown",
   "metadata": {},
   "source": [
    "<h2>Creación del Corpus</h2>"
   ]
  },
  {
   "cell_type": "code",
   "execution_count": 3,
   "metadata": {
    "collapsed": true
   },
   "outputs": [],
   "source": [
    "corpus_path = \"cyberbullying_corpus/\"\n",
    "#corpus_path = \"corpus_lda/corpus_lda.lda_c\"\n",
    "#dictionary_path =\"corpus_lda/corpus_lda.dict\""
   ]
  },
  {
   "cell_type": "code",
   "execution_count": 9,
   "metadata": {},
   "outputs": [],
   "source": [
    "#Remove keywords in cyberbullying from stopwords list\n",
    "keywords = [\"you\", \"your\", \"he\", \"she\", \"it\"]\n",
    "stopword_list = [stopword for stopword in stopwords.words('english') if stopword not in keywords]\n",
    "puncts = \".,:;?!()[]{}~+-\\\"\\'#$%&\\/\"\n",
    "digits = \"0123456789\"\n",
    "\n",
    "#Create the corpus\n",
    "corpus = []\n",
    "for filename in os.listdir(corpus_path):\n",
    "    with open(corpus_path+filename) as file:\n",
    "        tokens = []\n",
    "        for line in file:\n",
    "            for sym in puncts:\n",
    "                line = line.replace(sym,\" \")\n",
    "            for num in digits:\n",
    "                line = line.replace(num,\" \")\n",
    "\n",
    "            tokens = tokens + [word for word in line.lower().split() if word not in stopword_list]\n",
    "        corpus.append(tokens)\n",
    "\n",
    "#Remove words that appear only once\n",
    "frequency = defaultdict(int)\n",
    "for text in corpus:\n",
    "    for token in text:\n",
    "        frequency[token] += 1\n",
    "texts = [[token for token in text if frequency[token] > 1] for text in corpus]\n",
    "\n",
    "\n",
    "# Lemmatize all words in documents.\n",
    "lemmatizer = WordNetLemmatizer()\n",
    "texts = [[lemmatizer.lemmatize(token) for token in doc] for doc in texts]\n",
    "\n",
    "# Add bigrams and trigrams to docs (only ones that appear 20 times or more).\n",
    "#bigram = Phrases(texts, min_count=20)\n",
    "#for idx in range(len(texts)):\n",
    "#    for token in bigram[texts[idx]]:\n",
    "#        if '_' in token:\n",
    "#            texts[idx].append(token)\n",
    "\n",
    "#Create and save dictionary\n",
    "dictionary = corpora.Dictionary(texts)\n",
    "dictionary.save('tmp/cyberbullying_dictionary.dict') #Save the dictionary\n",
    "\n",
    "#Convert documents to vectors\n",
    "corpus = [dictionary.doc2bow(text) for text in texts]\n",
    "\n",
    "#Increasing weight of bad words:\n",
    "bad_words = [\"ass\", \"face\", \"dick\", \"asshole\"]\n",
    "bad_words_ids = [word_id for word_id, word in dictionary.iteritems() if word in bad_words]\n",
    "\n",
    "for doc_idx in range(len(corpus)):\n",
    "    word_id_list = []\n",
    "    freq_list = []\n",
    "\n",
    "    for word_id, freq in corpus[doc_idx]:\n",
    "        word_id_list.append(word_id)\n",
    "        if word_id in bad_words_ids:\n",
    "            freq_list.append(freq*2000)\n",
    "        else:\n",
    "            freq_list.append(freq)\n",
    "    \n",
    "    from random import randint\n",
    "    if randint(0, 9) > 8:\n",
    "        word_id_list.append(bad_words_ids[0])\n",
    "        freq_list.append(5000)\n",
    "    \n",
    "    new_doc = zip(word_id_list,freq_list)\n",
    "    corpus[doc_idx] = new_doc\n",
    "    \n",
    "    #print(\"Most frequent word of Doc_\"+str(doc_idx))\n",
    "    #print(dictionary[word_id_list[freq_list.index(max(freq_list))]])\n",
    "    #print(\"----------------------------\\n\")\n",
    "\n",
    "corpora.BleiCorpus.serialize('tmp/cyberbullying_corpus.lda-c', corpus) #Save the corpus\n"
   ]
  },
  {
   "cell_type": "code",
   "execution_count": null,
   "metadata": {
    "collapsed": true
   },
   "outputs": [],
   "source": [
    "#Load the dictionary and corpus\n",
    "if (os.path.exists('tmp/cyberbullying_dictionary.dict') and os.path.exists('tmp/cyberbullying_corpus.lda-c')):\n",
    "    print('Creating dictionary...')\n",
    "    %time dictionary = corpora.Dictionary.load('tmp/cyberbullying_dictionary.dict')\n",
    "    print('Creating corpus...')\n",
    "    %time corpus = corpora.BleiCorpus('tmp/cyberbullying_corpus.lda-c')\n",
    "else:\n",
    "    print(\"Create the dictionary and corpus first\")"
   ]
  },
  {
   "cell_type": "code",
   "execution_count": 10,
   "metadata": {
    "collapsed": true
   },
   "outputs": [],
   "source": [
    "#Initialize a model\n",
    "#print('Creating Tfidf model...')\n",
    "#%time tfidf = models.TfidfModel(corpus)\n",
    "#corpus_tfidf = tfidf[corpus]\n",
    "\n",
    "#Create a LDA Model and save it\n",
    "lda = ldamodel.LdaModel(corpus, num_topics=2, id2word=dictionary)\n",
    "lda.save('tmp/cyberbullying_ldaModel.lda')"
   ]
  },
  {
   "cell_type": "code",
   "execution_count": null,
   "metadata": {
    "collapsed": true
   },
   "outputs": [],
   "source": [
    "#Load LDA Model\n",
    "lda = models.LdaModel.load('tmp/cyberbullying_ldaModel.lda')"
   ]
  },
  {
   "cell_type": "code",
   "execution_count": 13,
   "metadata": {},
   "outputs": [
    {
     "data": {
      "text/plain": [
       "[(0,\n",
       "  u'0.780*\"face\" + 0.163*\"dick\" + 0.009*\"asshole\" + 0.004*\"you\" + 0.003*\"ass\" + 0.002*\"your\" + 0.001*\"like\" + 0.001*\"look\" + 0.001*\"it\" + 0.000*\"he\" + 0.000*\"get\" + 0.000*\"one\" + 0.000*\"guy\" + 0.000*\"would\" + 0.000*\"make\" + 0.000*\"she\" + 0.000*\"know\" + 0.000*\"hair\" + 0.000*\"girl\" + 0.000*\"kid\" + 0.000*\"think\" + 0.000*\"time\" + 0.000*\"even\" + 0.000*\"see\" + 0.000*\"say\" + 0.000*\"roast\" + 0.000*\"got\" + 0.000*\"head\" + 0.000*\"go\" + 0.000*\"could\" + 0.000*\"going\" + 0.000*\"need\" + 0.000*\"want\" + 0.000*\"people\" + 0.000*\"life\" + 0.000*\"year\" + 0.000*\"http\" + 0.000*\"bet\" + 0.000*\"u\" + 0.000*\"eye\" + 0.000*\"back\" + 0.000*\"thing\" + 0.000*\"school\" + 0.000*\"picture\" + 0.000*\"take\" + 0.000*\"shit\" + 0.000*\"fuck\" + 0.000*\"someone\" + 0.000*\"right\" + 0.000*\"friend\" + 0.000*\"com\" + 0.000*\"probably\" + 0.000*\"tell\" + 0.000*\"already\" + 0.000*\"fucking\" + 0.000*\"mom\" + 0.000*\"good\" + 0.000*\"old\" + 0.000*\"as\" + 0.000*\"really\" + 0.000*\"way\" + 0.000*\"ever\" + 0.000*\"never\" + 0.000*\"still\" + 0.000*\"gay\" + 0.000*\"sure\" + 0.000*\"man\" + 0.000*\"much\" + 0.000*\"boy\" + 0.000*\"enough\" + 0.000*\"looking\" + 0.000*\"child\" + 0.000*\"two\" + 0.000*\"left\" + 0.000*\"give\" + 0.000*\"day\" + 0.000*\"trying\" + 0.000*\"nose\" + 0.000*\"shirt\" + 0.000*\"ugly\" + 0.000*\"dad\" + 0.000*\"forehead\" + 0.000*\"first\" + 0.000*\"teeth\" + 0.000*\"fat\" + 0.000*\"parent\" + 0.000*\"little\" + 0.000*\"feel\" + 0.000*\"well\" + 0.000*\"dude\" + 0.000*\"white\" + 0.000*\"kind\" + 0.000*\"let\" + 0.000*\"better\" + 0.000*\"every\" + 0.000*\"away\" + 0.000*\"oh\" + 0.000*\"love\" + 0.000*\"eyebrow\" + 0.000*\"nice\"'),\n",
       " (1,\n",
       "  u'0.440*\"asshole\" + 0.281*\"face\" + 0.127*\"dick\" + 0.043*\"ass\" + 0.006*\"you\" + 0.003*\"like\" + 0.002*\"look\" + 0.002*\"your\" + 0.001*\"it\" + 0.001*\"he\" + 0.001*\"guy\" + 0.001*\"get\" + 0.001*\"one\" + 0.000*\"would\" + 0.000*\"hair\" + 0.000*\"kid\" + 0.000*\"know\" + 0.000*\"roast\" + 0.000*\"make\" + 0.000*\"good\" + 0.000*\"got\" + 0.000*\"right\" + 0.000*\"sure\" + 0.000*\"boy\" + 0.000*\"school\" + 0.000*\"say\" + 0.000*\"shit\" + 0.000*\"time\" + 0.000*\"think\" + 0.000*\"girl\" + 0.000*\"see\" + 0.000*\"gay\" + 0.000*\"go\" + 0.000*\"bet\" + 0.000*\"take\" + 0.000*\"mom\" + 0.000*\"http\" + 0.000*\"still\" + 0.000*\"even\" + 0.000*\"people\" + 0.000*\"picture\" + 0.000*\"old\" + 0.000*\"going\" + 0.000*\"child\" + 0.000*\"probably\" + 0.000*\"year\" + 0.000*\"really\" + 0.000*\"thing\" + 0.000*\"life\" + 0.000*\"com\" + 0.000*\"looking\" + 0.000*\"friend\" + 0.000*\"man\" + 0.000*\"someone\" + 0.000*\"want\" + 0.000*\"day\" + 0.000*\"dude\" + 0.000*\"way\" + 0.000*\"back\" + 0.000*\"ever\" + 0.000*\"head\" + 0.000*\"seen\" + 0.000*\"every\" + 0.000*\"let\" + 0.000*\"fucking\" + 0.000*\"as\" + 0.000*\"need\" + 0.000*\"fuck\" + 0.000*\"could\" + 0.000*\"try\" + 0.000*\"u\" + 0.000*\"come\" + 0.000*\"parent\" + 0.000*\"fat\" + 0.000*\"tell\" + 0.000*\"never\" + 0.000*\"little\" + 0.000*\"woman\" + 0.000*\"kind\" + 0.000*\"already\" + 0.000*\"eye\" + 0.000*\"oh\" + 0.000*\"black\" + 0.000*\"much\" + 0.000*\"must\" + 0.000*\"put\" + 0.000*\"left\" + 0.000*\"enough\" + 0.000*\"type\" + 0.000*\"white\" + 0.000*\"shirt\" + 0.000*\"brother\" + 0.000*\"big\" + 0.000*\"something\" + 0.000*\"pretty\" + 0.000*\"love\" + 0.000*\"lot\" + 0.000*\"give\" + 0.000*\"first\" + 0.000*\"two\"')]"
      ]
     },
     "execution_count": 13,
     "metadata": {},
     "output_type": "execute_result"
    }
   ],
   "source": [
    "#Print Topics\n",
    "lda.print_topics(2,100)"
   ]
  },
  {
   "cell_type": "code",
   "execution_count": null,
   "metadata": {
    "collapsed": true
   },
   "outputs": [],
   "source": []
  }
 ],
 "metadata": {
  "kernelspec": {
   "display_name": "Python 2",
   "language": "python",
   "name": "python2"
  },
  "language_info": {
   "codemirror_mode": {
    "name": "ipython",
    "version": 2
   },
   "file_extension": ".py",
   "mimetype": "text/x-python",
   "name": "python",
   "nbconvert_exporter": "python",
   "pygments_lexer": "ipython2",
   "version": "2.7.13"
  }
 },
 "nbformat": 4,
 "nbformat_minor": 2
}
