{
 "cells": [
  {
   "cell_type": "markdown",
   "metadata": {},
   "source": [
    "<h1>Proyecto Tecnologías de Búsqueda en la Web</h1>\n",
    "<h3>Integrantes</h3>\n",
    "<ul><li>Sebastián Aranda</li><li>Felipe Santander</li></ul>"
   ]
  },
  {
   "cell_type": "markdown",
   "metadata": {},
   "source": [
    "<h2>Declaraciones</h2>"
   ]
  },
  {
   "cell_type": "code",
   "execution_count": 5,
   "metadata": {
    "collapsed": true
   },
   "outputs": [],
   "source": [
    "import gensim\n",
    "from gensim import corpora\n",
    "from gensim.corpora import Dictionary, bleicorpus\n",
    "from gensim.models import ldamodel\n",
    "import pyLDAvis\n",
    "from collections import defaultdict\n",
    "import nltk\n",
    "from nltk.corpus import stopwords\n",
    "import os"
   ]
  },
  {
   "cell_type": "code",
   "execution_count": 6,
   "metadata": {
    "collapsed": true
   },
   "outputs": [],
   "source": [
    "corpus_path = \"cyberbullying_corpus/\"\n",
    "#corpus_path = \"corpus_lda/corpus_lda.lda_c\"\n",
    "#dictionary_path =\"corpus_lda/corpus_lda.dict\""
   ]
  },
  {
   "cell_type": "code",
   "execution_count": 7,
   "metadata": {
    "collapsed": true
   },
   "outputs": [],
   "source": [
    "#Se eliminan palabras clave en deteccion de cyberbullying de la lista de stopwords de nltk\n",
    "keywords = [\"you\", \"your\", \"he\", \"she\", \"it\"]\n",
    "stopword_list = [stopword for stopword in stopwords.words('english') if stopword not in keywords]\n",
    "puncts = \".,:;?!()[]{}~+-\\\"\\'#$%&\\/\"\n",
    "digits = \"0123456789\""
   ]
  },
  {
   "cell_type": "code",
   "execution_count": 8,
   "metadata": {},
   "outputs": [
    {
     "name": "stdout",
     "output_type": "stream",
     "text": [
      "[['first', 'time', 'you', 'held', 'cardboard', 'sign', 'you', 'least', 'impressive', 'ever', 'seen', 'lannister', 'always', 'never', 'payday', 'weird', 'three', 'creature', 'you', 'trying', 'fingerblast', 'shocker', 'you', 'look', 'like', 'version', 'joel', 'really', 'enjoyed', 'work', 'tucker', 'dale', 'vs', 'evil', 'http', 'www', 'imdb', 'com', 'media', 'rm', 'brain', 'cells', 'already', 'roasted', 'sure', 'see', 'phone', 'watch', 'back', 'side', 'sign', 'it', 'says', 'last', 'quarter', 'please', 'donate', 'your', 'life', 'would', 'want', 'high'], ['dude', 'drop', 'clothes', 'corner', 'your', 'boyfriend', 'waiting', 'you', 'room', 'intrigued', 'know', 'bears', 'prefer', 'tops', 'bottoms', 'grew', 'beard', 'hide', 'your', 'double', 'chins', 'like', 'use', 'word', 'intrigued', 'lot', 'heard', 'your', 'beard', 'shit', 'trapped', 'it', 'bathroom', 'wall', 'behind', 'you', 'you', 'know', 'gays', 'mustaches', 'beards', 'hide', 'stretch', 'marks'], ['comment', 'overwritten', 'open', 'source', 'script', 'protect', 'user', 'amp', 'apos', 'privacy', 'you', 'would', 'like', 'add', 'browser', 'extension', 'greasemonkey', 'https', 'addons', 'mozilla', 'org', 'en', 'us', 'firefox', 'addon', 'greasemonkey', 'firefox', 'add', 'open', 'source', 'script', 'https', 'greasyfork', 'org', 'en', 'scripts', 'reddit', 'overwrite', 'simply', 'click', 'your', 'username', 'reddit', 'go', 'comments', 'tab', 'hit', 'new', 'overwrite', 'button', 'top', 'you', 'look', 'like', 'someone', 'stuffed', 'prince', 'sandwich', 'press', 'gave', 'glasses', 'you', 'look', 'like', 'https', 'imgur', 'com', 'he', 'blackface', 'long', 'face', 'knock', 'it', 'right', 'stop', 'cause', 'ruin', 'image', 'style', 'ya', 'used', 'look', 'funny', 'yo', 'money', 'see', 'yo', 'world', 'hope', 'you', 'ready', 'round', 'new', 'fool', 'town', 'sound', 'laid', 'underground', 'wow', 'wesley', 'snipes', 'really', 'took', 'wrong', 'fucking', 'turn', 'life', 'u', 'growing', 'mustache', 'your', 'job', 'already', 'you', 'take', 'homemade', 'clock', 'school', 'bet', 'you', 'constantly', 'smell', 'like', 'chicken', 'shot', 'hood', 'leave', 'captain', 'phillips', 'alone', 'you', 'bastard', 'unenthusiastic', 'terrorist', 'face', 'um', 'oh', 'yeah', 'praise', 'allah', 'you', 'look', 'like', 'youre', 'middle', 'gender', 'reassignment', 'you', 'realized', 'isis', 'doesnt', 'accept', 'women', 'it', 'like', 'fresh', 'prince', 'trying', 'carlton', 'holy', 'shit', 'happened', 'urkel'], ['holy', 'shit', 'it', 'gilbert', 'gottfried', 'your', 'friend', 'looks', 'like', 'mentally', 'lovechild', 'joseph', 'gordon', 'levitt', 'goblin', 'im', 'guessing', 'youre', 'around', 'it', 'you', 'face', 'year', 'old', 'alcoholic', 'it', 'like', 'your', 'eyes', 'closing', 'weight', 'your', 'forehead', 'you', 'look', 'like', 'type', 'kid', 'jerks', 'he', 'friend', 'house', 'sorry', 'job', 'gilbert', 'work', 'pimples', 'first', 'come', 'back', 'you', 'potty', 'trained', 'he', 'sexy'], ['simple', 'jack', 'high', 'school', 'years', 'you', 'blend', 'your', 'classmates', 'like', 'your', 'camo', 'hoodie', 'blends', 'your', 'surroundings', 'it', 'looks', 'like', 'your', 'parents', 'already', 'done', 'worst', 'picture', 'day', 'special', 'ed', 'class', 'cute', 'you', 'tell', 'princess', 'another', 'castle', 'time', 'kick', 'your', 'fucking', 'teeth', 'it', 'you', 'look', 'like', 'dumb', 'version', 'clock', 'terrorist', 'let', 'take', 'second', 'give', 'props', 'stud', 'back', 'boy', 'you', 'look', 'like', 'long', 'you', 'survived', 'cents', 'day', 'it', 'like', 'you', 'went', 'back', 'time', 'stole', 'paul', 'mccartney', 'bowl', 'cut', 'none', 'style', 'talent', 'forgot', 'use', 'comb', 'dont', 'know', 'whats', 'worse', 'your', 'face', 'your', 'hoodie', 'it', 'looks', 'like', 'parents', 'already', 'ew', 'know', 'one', 'say', 'actually', 'surpass', 'nature', 'already', 'done', 'say', 'you', 'fragile', 'handle', 'worst', 'it', 'looks', 'like', 'you', 'put', 'bad', 'shit', 'already', 'going', 'looks', 'worst', 'it', 'looks', 'like', 'your', 'dad', 'beat', 'us', 'punch', 'literally', 'you', 'look', 'like', 'he', 'went', 'seven', 'rounds', 'your', 'mother', 'pregnant', 'stomach', 'boy', 'you', 'really', 'looking', 'like', 'howard', 'big', 'bang', 'theory', 'hair', 'dirtier', 'tongue', 'eat', 'girl', 'ass', 'tf', 'your', 'face', 'look', 'like', 'std', 'fam', 'smfh', 'your', 'barber', 'really', 'time', 'abed', 'meth', 'you', 'next', 'suicide', 'bomber', 'you', 'look', 'like', 'poorly', 'dressed', 'micro', 'phone', 'worse', 'your', 'barber', 'nature', 'already', 'done', 'son', 'you', 'face', 'virginity', 'protector', 'jack', 'could', 'grow', 'hair', 'https', 'www', 'google', 'com', 'au', 'search', 'foreman', 'season', 'amp', 'amp', 'amp', 'tbm=isch', 'amp', 'gwlm', 'f', 'com', 'season', 'bluray', 'html', 'amp', 'amp', 'amp', 'gwlm', 'amp', 'biw=', 'amp', 'bih=', 'amp', 'usg=__hsqjb_i', 'ui', 'ela', 'gg', 'km', 'quz', 'amp', 'ved=', 'v', 'amp', 'g', 'amp', 'usg=__hsqjb_i', 'ui', 'ela', 'gg', 'km', 'quz', 'you', 'hmm', 'you', 'you', 'look', 'like', 'somebody', 'ugly', 'lesbo', 'aunt', 'front', 'teeth', 'jesus', 'busy', 'building', 'pond', 'you', 'beaver', 'looking', 'ugly', 'fuck', 'you', 'look', 'way', 'older', 'you', 'really', 'unattractive', 'unfortunate', 'way', 'special', 'ed', 'gorilla', 'behind', 'you', 'pounding', 'chest', 'mounting', 'you', 'behind', 'god', 'you', 'ugly', 'whatever', 'gender', 'ethnicity', 'species', 'you', 'actually', 'uck', 'abed', 'community', 'coming', 'back', 'another', 'season'], ['it', 'take', 'seconds', 'college', 'campus', 'cheat', 'you', 'lucky', 'you', 'she', 'stupid', 'get', 'college', 'bet', 'you', 'guys', 'best', 'pet', 'names', 'like', 'pizza', 'face', 'oil', 'spill', 'damn', 'honey', 'boo', 'boo', 'grew', 'fast', 'look', 'it', 'failed', 'cheerleader', 'desperate', 'bang', 'failed', 'cheerleader', 'guess', 'you', 'gave', 'your', 'heart', 'she', 'gave', 'you', 'syphilis', 'would', 'roast', 'walking', 'plastic', 'forehead', 'doormat', 'seems', 'bit', 'redundant', 'forehead', 'bigger', 'inflated', 'ego', 'somehow', 'you', 'managed', 'settle', 'your', 'she', 'looks', 'like', 'duck', 'barbie', 'ken', 'she', 'got', 'brains', 'he', 'got', 'balls', 'perfect', 'couple', 'bimbo', 'barbie', 'face', 'flat', 'she', 'could', 'probably', 'take', 'bite', 'wall', 'fivehead', 'get', 'way', 'attempt', 'covering', 'mess', 'face', 'enough', 'fake', 'tan', 'colored', 'world', 'fix', 'bulldog', 'face', 'it', 'rare', 'you', 'see', 'domestic', 'adolescent', 'form', 'looks', 'like', 'she', 'made', 'rubber', 'plastic', 'you', 'know', 'subreddit', 'decline', 'people', 'even', 'post', 'pictures', 'humans', 'anymore', 'ms', 'hills', 'eyes', 'greasy', 'fivehead', 'easy', 'target', 'mean', 'anyone', 'call', 'obvious', 'fetal', 'alcohol', 'syndrome', 'maybe', 'she', 'wash', 'face', 'it', 'expensive', 'run', 'bottle', 'proactive', 'every', 'day', 'crater', 'faced', 'future', 'neckbeard', 'fuck', 'sideburns', 'substitute', 'teacher', 'comb', 'making', 'it', 'easy', 'us', 'bet', 'you', 'back', 'soft', 'pudgy', 'you', 'find', 'insecure', 'little', 'twat', 'enjoys', 'showering', 'practice', 'team', 'coach', 'little', 'much', 'girl', 'really', 'loved', 'you', 'shed', 'give', 'you', 'forehead', 'you', 'would', 'still', 'ugly', 'least', 'you', 'proportional', 'enough', 'real', 'estate', 'forehead', 'put', 'another', 'face', 'pimples', 'sneak', 'blow', 'doll', 'school', 'you', 'could', 'operate', 'space', 'station', 'space', 'eyebrows', 'forehead', 'literally', 'half', 'head', 'kids', 'normal', 'foreheads', 'least', 'hot', 'cheerleader', 'hot', 'without', 'makeup', 'friend', 'zone', 'dude', 'chance', 'fucking', 'life', 'trying', 'meanwhile', 'she', 'black', 'cocks', 'genital', 'warts', 'you', 'look', 'like', 'barbie', 'ken', 'dolls', 'left', 'behind', 'willy', 'wonka', 'lost', 'one', 'https', 'www', 'youtube', 'com', 'watch', 'w', 'aww', 'bet', 'he', 'see', 'reflection', 'forehead', 'he', 'looks', 'really', 'tell', 'one', 'bitch', 'relationship', 'duck', 'generic', 'highschool', 'pretty', 'boy', 'she', 'needs', 'share', 'tanning', 'booth', 'hear', 'it', 'help', 'tits', 'bc', 'she', 'obviously', 'spending', 'much', 'time', 'anyway', 'you', 'could', 'plot', 'farm', 'forehead', 'you', 'two', 'combined', 'you', 'look', 'like', 'type', 'two', 'people', 'drive', 'nerds', 'shoot', 'school', 'feel', 'like', 'face', 'swap', 'nothing', 'would', 'change', 'teen', 'mom', 'episode', 'waiting', 'happen', 'see', 'anything', 'see', 'reflection', 'shiny', 'giant', 'ass', 'forehead', 'she', 'looks', 'like', 'she', 'living', 'years', 'taking', 'yes', 'rumors', 'sucking', 'basketball', 'team', 'entirely', 'true', 'missing', 'flight', 'land', 'your', 'forehead', 'yeah', 'high', 'school', 'relationships', 'pretty', 'special', 'sure', 'together', 'forever', 'even', 'past', 'junior', 'prom', 'le', 'forehead', 'le', 'le', 'le', 'le', 'le', 'first', 'tell', 'fake', 'forehead', 'hair', 'realized', 'forehead', 'plastic', 'hair', 'wax', 'much', 'shiny', 'good', 'acne', 'thing', 'he', 'seeing', 'tonight', 'boyfriends', 'chicks', 'face', 'ugly', 'even', 'hairline', 'running', 'away', 'it', 'remember', 'forehead', 'ever', 'catches', 'fire', 'ever', 'pour', 'water', 'it', 'makes', 'grease', 'fire', 'worse', 'your', 'school', 'team', 'he', 'next', 'level', 'friend', 'zone', 'your', 'name', 'caitlin', 'becky', 'nah', 'becky', 'sounds', 'fun', 'head', 'cheerleader', 'thing', 'catcher', 'school', 'dart', 'team', 'think', 'she', 'stole', 'forehead', 'double', 'edit', '*roast', 'us', 'guy', 'posting', 'picture', 'balding', 'chick', 'pretending', 'relationship', 'tammi', 'wayne', 'pregnant', 'six', 'months', 'she', 'drops', 'he', 'gets', 'ged', 'goes', 'work', 'body', 'shop', 'eventually', 'move', 'mom', 'used', 'single', 'wide', 'he', 'starts', 'drinking', 'he', 'never', 'signed', 'shit', 'she', 'nothin', 'set', 'around', 'day', 'spend', 'money', 'show', 'webcam', 'she', 'wants', 'fresh', 'one', 'she', 'keep', 'running', 'mouth', 'he', 'outta', 'alaska', 'work', 'he', 'never', 'come', 'back', 'he', 'never', 'goin', 'anyhow', 'he', 'also', 'got', 'bar', 'parking', 'lot', 'fight', 'tvs', 'he', 'tammi', 'starts', 'fucking', 'black', 'guys', 'keep', 'tanning', 'bleach', 'amateur', 'barnyard', 'porn', 'pay', 'meth', 'roads', 'lead', 'rome', 'state', 'takes', 'child', 'she', 'nobody', 'notices', 'oh', 'lord', 'girl', 'guy', 'parents', 'always', 'told', 'girl', 'becomes', 'fat', 'bartender', 'local', 'meat', 'wagon', 'guy', 'drops', 'college', 'pursue', 'dream', 'wanting', 'father', 'wants', 'pretty', 'sure', 'she', 'decided', 'it', 'good', 'idea', 'couple', 'roast', 'she', 'looks', 'like', 'dumb', 'broad', 'stupid', 'ideas', 'you', 'look', 'like', 'fucking', 'doormat', 'thing', 'bigger', 'forehead', 'ass', 'hole', 'you', 'look', 'like', 'every', 'stereotype', 'south', 'except', 'he', 'going', 'beat', 'you', 'harder', 'he', 'calls', 'your', 'dad', 'name', 'sex', 'south', 'rise', 'sheets', 'motto', 'keep', 'it', 'family', 'head', 'big', 'heavy', 'she', 'give', 'head', 'laying', 'back', 'chip', 'your', 'dad', 'wants', 'hair', 'back', 'know', 'shia', 'lebeouf', 'ugly', 'little', 'sister', 'coneheads', 'bet', 'snatch', 'looks', 'your', 'chin', 'you', 'catholic', 'girl', 'your', 'head', 'looks', 'like', 'you', 'receiving', 'money', 'st', 'donating', 'you', 'look', 'like', 'you', 'related', 'subway', 'he', 'given', 'either', 'you', 'yet'], ['you', 'look', 'like', 'shittiest', 'parts', 'every', 'stereotype', 'put', 'together', 'one', 'person', 'know', 'lazier', 'your', 'eye', 'your', 'mom', 'going', 'abortion', 'lost', 'arm', 'thinking', 'he', 'could', 'steal', 'stereo', 'moving', 'car', 'looks', 'like', 'mexican', 'love', 'child', 'mixed', 'half', 'black', 'half', 'fetal', 'alcohol', 'syndrome', 'mix', 'cerebral', 'palsy', 'syndrome', 'you', 'guys', 'fucking', 'best', 'oh', 'god', 'you', 'missing', 'arm', 'it', 'matter', 'you', 'make', 'it', 'your', 'extra', 'chromosomes', 'species', 'hold', 'pose', 'your', 'homies', 'prison', 'want', 'you', 'like', 'trust', 'us', 'guards', 'hear', 'care', 'you', 'look', 'like', 'chance', 'rapper', 'little', 'nicky', 'fused', 'got', 'hit', 'shovel', 'looks', 'like', 'photo', 'meth', 'addiction', 'galleries', 'mixed', 'you', 'mean', 'inbred', 'one', 'shaking', 'baby', 'syndrome', 'he', 'mixed', 'well', 'enough', 'he', 'looks', 'like', 'white', 'guy', 'wet', 'paper', 'bag', 'stuck', 'face', 'many', 'birth', 'defects', 'you', 'you', 'could', 'late', 'night', 'infomercial', 'asked', 'people', 'donate', 'money', 'fucked', 'kids', 'surprised', 'you', 'cleft', 'also', 'looks', 'like', 'someone', 'mixed', 'eyes', 'looks', 'like', 'hairline', 'trying', 'take', 'eyes', 'your', 'pocket', 'you', 'happy', 'see', 'last', 'time', 'people', 'like', 'your', 'friend', 'roasted', 'it', 'called', 'final', 'solution', 'it', 'bad', 'you', 'one', 'arm', 'you', 'much', 'rather', 'loose', 'gross', 'shit', 'your', 'neck', 'dude', 'wanna', 'drake', 'bad', 'looks', 'like', 'he', 'came', 'ring', 'mike', 'tyson', 'he', 'mixed', 'person', 'person', 'allergic', 'peanuts', 'it', 'brave', 'person', 'went', 'full', 'day', 'still', 'want', 'roasted'], ['fat', 'version', 'cookie', 'you', 'fat', 'enough', 'you', 'might', 'found', 'hole', 'three', 'fifths', 'compromise', 'face', 'you', 'get', 'raise', 'cotton', 'farm', 'someone', 'call', 'cops', 'one', 'warrants', 'would', 'you', 'already', 'look', 'burnt', 'you', 'look', 'like', 'chocolate', 'rain', 'brother', 'chocolate', 'you', 'eat', 'peanuts', 'you', 'allergic', 'you', 'look', 'like', 'extra', 'tubby', 'people', 'wonder', 'stereotype', 'black', 'people', 'chicken', 'came'], ['you', 'look', 'like', 'youtuber', 'gives', 'cancer', 'reaction', 'vids', 'minutes', 'ads', 'per', 'minutes', 'content', 'you', 'look', 'like', 'air', 'uses', 'press', 'accounts', 'look', 'pro', 'unlocked', 'everything', 'you', 'look', 'like', 'everything', 'wrong', 'gaming', 'culture', 'fucking', 'decade', 'tell', 'smile', 'you', 'giant', 'muscular', 'horse', 'teeth', 'nancy', 'https', 'www', 'youtube', 'com', 'watch', 'v=', 'j', 'lives', 'you', 'frog', 'you', 'football', 'players', 'looks', 'like', 'your', 'body', 'decide', 'x', 'chromosome', 'worry', 'though', 'wearing', 'virginity', 'one', 'ever', 'knows', 'you', 'look', 'like', 'type', 'guy', 'gets', 'friendzoned', 'ugliest', 'girl', 'school', 'either', 'vertical', 'inches', 'crooked', 'teeth', 'your', 'mouth', 'you', 'huge', 'gums', 'chin', 'you', 'already', 'posted', 'http', 'imgur', 'com', 'sorry', 'got', 'nothing', 'mean', 'you', 'bit', 'boyish', 'looking', 'you', 'seem', 'like', 'sweet', 'girl'], ['eyes', 'you', 'someone', 'it', 'count', 'body', 'slam', 'natural', 'look', 'works', 'you', 'pretty', 'your', 'birthday', 'bake', 'you', 'two', 'one', 'you', 'one', 'your', 'forehead', 'flavor', 'jelly', 'bean', 'your', 'head', 'you', 'know', 'responses', 'count', 'friends', 'right', 'least', 'try', 'go', 'bathroom', 'throw', 'your', 'cake', 'you', 'go', 'one', 'day', 'without', 'right', 'http', 'www', 'com', 'pictures', 'red', 'dragon', 'jpg', 'finally', 'old', 'enough', 'fuck', 'nobody', 'wants', 'your', 'face', 'might', 'look', 'better', 'without', 'skin', 'bet', 'your', 'birthday', 'consisted', 'nothing', 'text', 'your', 'grandmother', 'disappointment', 'you', 'important', 'enough', 'your', 'friends', 'remember', 'shoot', 'you', 'message', 'seeing', 'facebook', 'morning', 'runs', 'support', 'group', 'women', 'blue', 'ah', 'anniversary', 'last', 'thing', 'ever', 'your', 'mom', 'vagina', 'leaving', 'good', 'reason', 'lay', 'meth', 'you', 'look', 'like', 'thurman', 'she', 'shaved', 'half', 'head', 'replaced', 'skin', 'edward', 'james', 'olmos', 'wonder', 'it', 'hard', 'amount', 'hair', 'transplant', 'surgery', 'replace', 'receding', 'hairline', 'you', 'got', 'birthday', 'cake', 'feed', 'it', 'still', 'smaller', 'your', 'forehead', 'happy', 'birthday', 'you', 'offering', 'discounts', 'billboard', 'space', 'celebrate', 'occasion', 'phone', 'made', 'forehead', 'your', 'exception', 'bob', 'ross', 'happy', 'accident', 'policy', 'looks', 'like', 'your', 'forehead', 'slightly', 'pushing', 'rest', 'your', 'face', 'towards', 'your', 'chin', 'years', 'years', 'you', 'might', 'end', 'looking', 'like', 'facebook', 'default', 'profile', 'picture', 'years', 'ps', 'it', 'help', 'boys', 'r', 'fiveheads', 'hahaha', 'subreddit', 'savage', 'you', 'member', 'month', 'club', 'you', 'look', 'like', 'you', 'go', 'day', 'without', 'alcohol', 'besides', 'your', 'mom', 'else', 'could', 'possibly', 'depressed', 'glorious', 'day', 'start', 'kickstarter', 'campaign', 'convince', 'your', 'mom', 'dad', 'take', 'you', 'back', 'return', 'you', 'you', 'could', 'turning', 'maybe', 'kinda', 'hard', 'tell', 'tbh']]\n"
     ]
    }
   ],
   "source": [
    "corpus = []\n",
    "for filename in os.listdir(corpus_path):\n",
    "    with open(corpus_path+filename) as file:\n",
    "        tokens = []\n",
    "        for line in file:\n",
    "            for sym in puncts:\n",
    "                line = line.replace(sym,\" \")\n",
    "            for num in digits:\n",
    "                line = line.replace(num,\" \")\n",
    "\n",
    "            tokens = tokens + [word for word in line.lower().split() if word not in stopword_list]\n",
    "        corpus.append(tokens)\n",
    "\n",
    "# remove words that appear only once\n",
    "frequency = defaultdict(int)\n",
    "for text in corpus:\n",
    "    for token in text:\n",
    "        frequency[token] += 1\n",
    "\n",
    "texts = [[token for token in text if frequency[token] > 1] for text in corpus]\n",
    "\n",
    "print(texts[:10])"
   ]
  },
  {
   "cell_type": "markdown",
   "metadata": {},
   "source": [
    "<h2>Creación del Corpus</h2>"
   ]
  },
  {
   "cell_type": "code",
   "execution_count": null,
   "metadata": {
    "collapsed": true
   },
   "outputs": [],
   "source": []
  },
  {
   "cell_type": "code",
   "execution_count": 6,
   "metadata": {},
   "outputs": [
    {
     "name": "stdout",
     "output_type": "stream",
     "text": [
      "CPU times: user 68 ms, sys: 4 ms, total: 72 ms\n",
      "Wall time: 92.4 ms\n",
      "<gensim.corpora.bleicorpus.BleiCorpus object at 0x7f8dff10c450>\n",
      "CPU times: user 8 ms, sys: 0 ns, total: 8 ms\n",
      "Wall time: 8.11 ms\n",
      "Dictionary(10734 unique tokens: [u'holyrood', u'four', u'francesco', u'cyprus', u'payoff']...)\n"
     ]
    }
   ],
   "source": [
    "%time corpus = bleicorpus.BleiCorpus(corpus_path)\n",
    "print(corpus)\n",
    "\n",
    "%time dictionary = Dictionary.load(dictionary_path)\n",
    "print(dictionary)"
   ]
  },
  {
   "cell_type": "code",
   "execution_count": 7,
   "metadata": {},
   "outputs": [
    {
     "name": "stdout",
     "output_type": "stream",
     "text": [
      "CPU times: user 26.4 s, sys: 20 ms, total: 26.4 s\n",
      "Wall time: 27.1 s\n",
      "LdaModel(num_terms=10734, num_topics=2, decay=0.5, chunksize=2000)\n"
     ]
    }
   ],
   "source": [
    "%time lda_2 = ldamodel.LdaModel(corpus, num_topics=2, id2word = dictionary)\n",
    "print(lda_2)"
   ]
  }
 ],
 "metadata": {
  "kernelspec": {
   "display_name": "Python 2",
   "language": "python",
   "name": "python2"
  },
  "language_info": {
   "codemirror_mode": {
    "name": "ipython",
    "version": 2
   },
   "file_extension": ".py",
   "mimetype": "text/x-python",
   "name": "python",
   "nbconvert_exporter": "python",
   "pygments_lexer": "ipython2",
   "version": "2.7.13"
  }
 },
 "nbformat": 4,
 "nbformat_minor": 2
}
